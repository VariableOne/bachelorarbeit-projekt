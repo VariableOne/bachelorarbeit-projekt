{
 "cells": [
  {
   "cell_type": "markdown",
   "id": "cb6abdb9",
   "metadata": {},
   "source": [
    "# Ein Hybridmodell mit LSTM-AE, DBSCAN und IF"
   ]
  },
  {
   "cell_type": "code",
   "execution_count": null,
   "id": "8183868f",
   "metadata": {},
   "outputs": [],
   "source": [
    "import numpy as np\n",
    "from sklearn.preprocessing import StandardScaler\n",
    "import pandas as pd\n",
    "from sklearn.cluster import DBSCAN\n",
    "from sklearn.metrics import classification_report\n",
    "from sklearn.ensemble import IsolationForest\n",
    "from sklearn.svm import OneClassSVM\n",
    "from matplotlib import pyplot as plt\n",
    "from tensorflow.keras.callbacks import EarlyStopping\n",
    "import tensorflow as tf\n",
    "from sklearn.metrics import precision_recall_fscore_support, roc_auc_score\n",
    "import logging\n",
    "from tensorflow.keras.layers import TimeDistributed, Dense, LSTM, Dropout, LayerNormalization, Input, Add, Bidirectional, RepeatVector\n",
    "from tensorflow.keras.models import Model\n",
    "from tensorflow.keras.optimizers import Adam\n",
    "from sklearn.metrics import roc_curve\n",
    "from sklearn.preprocessing import LabelEncoder, OneHotEncoder\n",
    "from sklearn.metrics import matthews_corrcoef\n",
    "from sklearn.metrics import balanced_accuracy_score\n",
    "import sys\n",
    "from keras.layers import LSTM, Dropout, LayerNormalization, Add, TimeDistributed, Dense\n",
    "from sklearn.metrics import roc_curve, roc_auc_score, precision_recall_curve, average_precision_score\n",
    "from tensorflow.keras import backend as K"
   ]
  },
  {
   "cell_type": "markdown",
   "id": "c4b37113",
   "metadata": {},
   "source": [
    "## 1. Vorbereitung"
   ]
  },
  {
   "cell_type": "code",
   "execution_count": null,
   "id": "d6d26b95",
   "metadata": {},
   "outputs": [],
   "source": [
    "import torch\n",
    "print(torch.cuda.is_available())\n",
    "print(torch.cuda.get_device_name(0))\n",
    "\n",
    "device = torch.device(\"cuda\" if torch.cuda.is_available() else \"cpu\")"
   ]
  },
  {
   "cell_type": "code",
   "execution_count": null,
   "id": "e44ba590",
   "metadata": {},
   "outputs": [],
   "source": [
    "from sklearn.model_selection import StratifiedKFold\n",
    "\n",
    "n_splits = 5\n",
    "skf = StratifiedKFold(n_splits=n_splits, shuffle=True, random_state=42)"
   ]
  },
  {
   "cell_type": "code",
   "execution_count": null,
   "id": "2df9da31",
   "metadata": {},
   "outputs": [],
   "source": [
    "# from dotenv import load_dotenv\n",
    "# import requests\n",
    "# import os\n",
    "\n",
    "# event_url = os.environ.get(\"EVENT_URL\")\n",
    "\n",
    "# def get_all_events(token):\n",
    "#     headers = {'Authorization': f'Bearer {token}'}\n",
    "#     all_events = []\n",
    "#     params = {'max': 5000}\n",
    "#     resp = requests.get(event_url, headers=headers, params=params)\n",
    "#     resp.raise_for_status()\n",
    "#     batch = resp.json()\n",
    "#     all_events.extend(batch)\n",
    "\n",
    "#     return all_events\n",
    "\n",
    "# server_url = os.environ.get(\"URL\")\n",
    "# client_id = os.environ.get(\"CLIENT_ID\")\n",
    "# client_secret = os.environ.get(\"CLIENT_SECRET\")\n",
    "# token_url = os.environ.get(\"TOKEN_URL\")\n",
    "# keycloak_url = os.environ.get(\"keycloak_url\")\n",
    "# authRealm = os.environ.get(\"authRealm\")\n",
    "# realm = os.environ.get(\"realm\")\n",
    "\n",
    "# load_dotenv()\n",
    "\n",
    "# def get_token():\n",
    "#     data = {\n",
    "#         'keycloak_url': keycloak_url,\n",
    "#         'authRealm': authRealm,\n",
    "#         'realm': realm,\n",
    "#         'client_id': client_id,\n",
    "#         'client_secret': client_secret,\n",
    "#         'grant_type': 'client_credentials'\n",
    "#         }\n",
    "#     resp = requests.post(token_url, data=data)\n",
    "#     resp.raise_for_status()\n",
    "#     token = resp.json()['access_token']\n",
    "#     return token\n",
    "\n",
    "# token = get_token()\n",
    "# events = get_all_events(token)"
   ]
  },
  {
   "cell_type": "code",
   "execution_count": null,
   "id": "6234ad6a",
   "metadata": {},
   "outputs": [],
   "source": [
    "# from datetime import datetime\n",
    "# import json\n",
    "\n",
    "\n",
    "# filename = datetime.now().strftime(\"keycloak_events_%Y-%m-%d.jsonl\")\n",
    "# with open(filename, \"a\") as f:\n",
    "#     for event in events:\n",
    "#         f.write(json.dumps(event) + \"\\n\")"
   ]
  },
  {
   "cell_type": "markdown",
   "id": "185398f1",
   "metadata": {},
   "source": [
    "#### Daten laden"
   ]
  },
  {
   "cell_type": "code",
   "execution_count": null,
   "id": "eb5a6c20",
   "metadata": {},
   "outputs": [],
   "source": [
    "data_train = pd.read_json(\"train_logs.jsonl\", lines=True)\n",
    "data_test = pd.read_json(\"test_logs.jsonl\", lines=True)\n",
    "data_val = pd.read_json(\"val_logs.jsonl\", lines=True)"
   ]
  },
  {
   "cell_type": "code",
   "execution_count": null,
   "id": "321cb5aa",
   "metadata": {},
   "outputs": [],
   "source": [
    "X_train_full = pd.DataFrame(data_train)\n",
    "X_test_full = pd.DataFrame(data_test)\n",
    "X_val_full = pd.DataFrame(data_val)\n",
    "\n",
    "# data_test['label'] = data_test['details'].apply(lambda x: x.get('label', None))\n",
    "# data_val['label'] = data_val['details'].apply(lambda x: x.get('label', None))\n",
    "y_test_full = data_test[\"label\"]\n",
    "y_val_full = data_val[\"label\"]"
   ]
  },
  {
   "cell_type": "markdown",
   "id": "5b904244",
   "metadata": {},
   "source": [
    "#### Automatisch alles in Numerische oder Kategorische Daten einteilen"
   ]
  },
  {
   "cell_type": "code",
   "execution_count": null,
   "id": "aeaa7cd9",
   "metadata": {},
   "outputs": [],
   "source": [
    "import numpy as np\n",
    "from sklearn.preprocessing import LabelEncoder, OneHotEncoder\n",
    "\n",
    "def is_missing(val):\n",
    "    return val is None or (isinstance(val, float) and np.isnan(val))\n",
    "\n",
    "def flatten_log_entry(log, parent_key='', sep='.'):\n",
    "    items = []\n",
    "    for k, v in log.items():\n",
    "        new_key = f\"{parent_key}{sep}{k}\" if parent_key else k\n",
    "        if isinstance(v, dict):\n",
    "            items.extend(flatten_log_entry(v, new_key, sep=sep).items())\n",
    "        else:\n",
    "            items.append((new_key, v))\n",
    "    return dict(items)\n",
    "\n",
    "def auto_encode_features(logs, one_hot_numeric=False, label_encoders=None, onehot_encoders=None, fit=True):\n",
    "    # Logs flach machen\n",
    "    flat_logs = [flatten_log_entry(log) for log in logs]\n",
    "\n",
    "    if label_encoders is None:\n",
    "        label_encoders = {}\n",
    "    if onehot_encoders is None:\n",
    "        onehot_encoders = {}\n",
    "\n",
    "    # Encoder vorbereiten\n",
    "    for key in flat_logs[0].keys():\n",
    "        values = []\n",
    "        for log in flat_logs:\n",
    "            val = log.get(key)\n",
    "\n",
    "            if is_missing(val):\n",
    "                val = \"__MISSING__\"\n",
    "            elif isinstance(val, (list, dict)):\n",
    "                print(f\"Feature '{key}' enthält nicht-skalaren Wert – wird als String gespeichert: {val}\")\n",
    "                val = str(val)\n",
    "\n",
    "            values.append(val)\n",
    "\n",
    "        if fit:\n",
    "            try:\n",
    "                le = LabelEncoder()\n",
    "                le.fit(values)\n",
    "                label_encoders[key] = le\n",
    "            except Exception as e:\n",
    "                print(f\"Fehler beim Enkodieren von Feature '{key}': {e}\")\n",
    "                continue\n",
    "\n",
    "    # Feature-Werte transformieren\n",
    "    encoded_logs = []\n",
    "    for log in flat_logs:\n",
    "        encoded_log = {}\n",
    "        for key, le in label_encoders.items():\n",
    "            val = log.get(key, \"__MISSING__\")\n",
    "            if is_missing(val):\n",
    "                val = \"__MISSING__\"\n",
    "            elif isinstance(val, (list, dict)):\n",
    "                val = str(val)\n",
    "            try:\n",
    "                encoded_log[key] = le.transform([val])[0]\n",
    "            except ValueError:\n",
    "                encoded_log[key] = -1  # unbekannte Kategorie\n",
    "        encoded_logs.append(encoded_log)\n",
    "\n",
    "    return encoded_logs, label_encoders, onehot_encoders"
   ]
  },
  {
   "cell_type": "markdown",
   "id": "ed3ff107",
   "metadata": {},
   "source": [
    "#### Werte aus vorheriger Funktion vereinigen"
   ]
  },
  {
   "cell_type": "code",
   "execution_count": null,
   "id": "d4d0002f",
   "metadata": {},
   "outputs": [],
   "source": [
    "def dicts_to_feature_matrix(encoded_logs):\n",
    "    feature_names = sorted({key for d in encoded_logs for key in d.keys()})\n",
    "\n",
    "    X = np.zeros((len(encoded_logs), len(feature_names)), dtype=np.float32)\n",
    "\n",
    "    for i, d in enumerate(encoded_logs):\n",
    "        for j, feat in enumerate(feature_names):\n",
    "            if feat in d:\n",
    "                X[i, j] = d[feat]\n",
    "\n",
    "    return X, feature_names"
   ]
  },
  {
   "cell_type": "code",
   "execution_count": null,
   "id": "8d825cad",
   "metadata": {},
   "outputs": [],
   "source": [
    "logs_train = X_train_full.to_dict(orient='records')\n",
    "#logs_train = events\n",
    "logs_test = X_test_full.to_dict(orient='records')\n",
    "logs_val = X_val_full.to_dict(orient='records')\n",
    "\n",
    "encoded_logs, label_encoders, onehot_encoders = auto_encode_features(\n",
    "    logs_train, one_hot_numeric=False, fit=True\n",
    ")\n",
    "X_train, feature_names = dicts_to_feature_matrix(encoded_logs)\n",
    "\n",
    "encoded_test_logs, _, _ = auto_encode_features(\n",
    "    logs_test, one_hot_numeric=False,\n",
    "    label_encoders=label_encoders, onehot_encoders=onehot_encoders, fit=False\n",
    ")\n",
    "X_test, _ = dicts_to_feature_matrix(encoded_test_logs)\n",
    "\n",
    "encoded_val_logs, _, _ = auto_encode_features(\n",
    "    logs_val, one_hot_numeric=False,\n",
    "    label_encoders=label_encoders, onehot_encoders=onehot_encoders, fit=False\n",
    ")\n",
    "X_val, _ = dicts_to_feature_matrix(encoded_val_logs)"
   ]
  },
  {
   "cell_type": "markdown",
   "id": "56b55383",
   "metadata": {},
   "source": [
    "#### Skalierung"
   ]
  },
  {
   "cell_type": "code",
   "execution_count": null,
   "id": "d3445ba7",
   "metadata": {},
   "outputs": [],
   "source": [
    "scaler = StandardScaler()\n",
    "X_train_scaled = scaler.fit_transform(X_train)\n",
    "X_test_scaled = scaler.transform(X_test)\n",
    "X_val_scaled = scaler.transform(X_val)"
   ]
  },
  {
   "cell_type": "markdown",
   "id": "d4f955d4",
   "metadata": {},
   "source": [
    "### Parameter"
   ]
  },
  {
   "cell_type": "code",
   "execution_count": null,
   "id": "ad52d0ce",
   "metadata": {},
   "outputs": [],
   "source": [
    "seq_length = 50\n",
    "batch_size = 32\n",
    "\n",
    "encoder_layers = [128, 64]\n",
    "decoder_layers = [64, 128]\n",
    "\n",
    "dropout_rate = 0.1\n",
    "learning_rate = 0.001"
   ]
  },
  {
   "cell_type": "markdown",
   "id": "31049ba2",
   "metadata": {},
   "source": [
    "### Sequenzen"
   ]
  },
  {
   "cell_type": "code",
   "execution_count": 126,
   "id": "8b87923e",
   "metadata": {},
   "outputs": [],
   "source": [
    "class SequenceToSequenceGenerator(tf.keras.utils.Sequence):\n",
    "    def __init__(self, data, seq_length, batch_size, pad_last=True):\n",
    "        self.data = data\n",
    "        self.seq_length = seq_length\n",
    "        self.batch_size = batch_size\n",
    "        self.pad_last = pad_last\n",
    "\n",
    "        self.indices = np.arange(len(data) - seq_length)\n",
    "        \n",
    "        # Wenn Padding aktiv ist und etwas übrig bleibt\n",
    "        if pad_last and (len(data) % seq_length != 0):\n",
    "            self.include_last = True\n",
    "        else:\n",
    "            self.include_last = False\n",
    "\n",
    "    def __len__(self):\n",
    "        base = (len(self.indices) + self.batch_size - 1) // self.batch_size\n",
    "        return base + (1 if self.include_last else 0)\n",
    "\n",
    "    def __getitem__(self, idx):\n",
    "        if idx < len(self) - 1 or not self.include_last:\n",
    "            batch_idx = self.indices[idx * self.batch_size:(idx + 1) * self.batch_size]\n",
    "            X_batch = np.array([self.data[i:i + self.seq_length] for i in batch_idx])\n",
    "        else:\n",
    "            # letzte Sequenz mit Padding\n",
    "            last_seq = self.data[-self.seq_length:]\n",
    "            if len(last_seq) < self.seq_length:\n",
    "                padding_len = self.seq_length - len(last_seq)\n",
    "                padding = np.zeros((padding_len, self.data.shape[1]))\n",
    "                last_seq = np.vstack((last_seq, padding))\n",
    "            X_batch = np.expand_dims(last_seq, axis=0)\n",
    "\n",
    "        return X_batch, X_batch\n",
    "\n",
    "train_gen = SequenceToSequenceGenerator(X_train_scaled, seq_length, batch_size)\n",
    "val_gen = SequenceToSequenceGenerator(X_val_scaled, seq_length, batch_size)\n",
    "test_gen = SequenceToSequenceGenerator(X_test_scaled, seq_length, batch_size)"
   ]
  },
  {
   "cell_type": "markdown",
   "id": "f33d7452",
   "metadata": {},
   "source": [
    "## 2. LSTM-AE implementieren"
   ]
  },
  {
   "cell_type": "code",
   "execution_count": 127,
   "id": "f8edbf86",
   "metadata": {},
   "outputs": [
    {
     "data": {
      "text/html": [
       "<pre style=\"white-space:pre;overflow-x:auto;line-height:normal;font-family:Menlo,'DejaVu Sans Mono',consolas,'Courier New',monospace\"><span style=\"font-weight: bold\">Model: \"functional_4\"</span>\n",
       "</pre>\n"
      ],
      "text/plain": [
       "\u001b[1mModel: \"functional_4\"\u001b[0m\n"
      ]
     },
     "metadata": {},
     "output_type": "display_data"
    },
    {
     "data": {
      "text/html": [
       "<pre style=\"white-space:pre;overflow-x:auto;line-height:normal;font-family:Menlo,'DejaVu Sans Mono',consolas,'Courier New',monospace\">┏━━━━━━━━━━━━━━━━━━━━━━━━━━━━━━━━━┳━━━━━━━━━━━━━━━━━━━━━━━━┳━━━━━━━━━━━━━━━┓\n",
       "┃<span style=\"font-weight: bold\"> Layer (type)                    </span>┃<span style=\"font-weight: bold\"> Output Shape           </span>┃<span style=\"font-weight: bold\">       Param # </span>┃\n",
       "┡━━━━━━━━━━━━━━━━━━━━━━━━━━━━━━━━━╇━━━━━━━━━━━━━━━━━━━━━━━━╇━━━━━━━━━━━━━━━┩\n",
       "│ input_layer_4 (<span style=\"color: #0087ff; text-decoration-color: #0087ff\">InputLayer</span>)      │ (<span style=\"color: #00d7ff; text-decoration-color: #00d7ff\">None</span>, <span style=\"color: #00af00; text-decoration-color: #00af00\">10</span>, <span style=\"color: #00af00; text-decoration-color: #00af00\">18</span>)         │             <span style=\"color: #00af00; text-decoration-color: #00af00\">0</span> │\n",
       "├─────────────────────────────────┼────────────────────────┼───────────────┤\n",
       "│ bidirectional_18                │ (<span style=\"color: #00d7ff; text-decoration-color: #00d7ff\">None</span>, <span style=\"color: #00af00; text-decoration-color: #00af00\">10</span>, <span style=\"color: #00af00; text-decoration-color: #00af00\">256</span>)        │       <span style=\"color: #00af00; text-decoration-color: #00af00\">150,528</span> │\n",
       "│ (<span style=\"color: #0087ff; text-decoration-color: #0087ff\">Bidirectional</span>)                 │                        │               │\n",
       "├─────────────────────────────────┼────────────────────────┼───────────────┤\n",
       "│ dropout_14 (<span style=\"color: #0087ff; text-decoration-color: #0087ff\">Dropout</span>)            │ (<span style=\"color: #00d7ff; text-decoration-color: #00d7ff\">None</span>, <span style=\"color: #00af00; text-decoration-color: #00af00\">10</span>, <span style=\"color: #00af00; text-decoration-color: #00af00\">256</span>)        │             <span style=\"color: #00af00; text-decoration-color: #00af00\">0</span> │\n",
       "├─────────────────────────────────┼────────────────────────┼───────────────┤\n",
       "│ bidirectional_19                │ (<span style=\"color: #00d7ff; text-decoration-color: #00d7ff\">None</span>, <span style=\"color: #00af00; text-decoration-color: #00af00\">10</span>, <span style=\"color: #00af00; text-decoration-color: #00af00\">128</span>)        │       <span style=\"color: #00af00; text-decoration-color: #00af00\">164,352</span> │\n",
       "│ (<span style=\"color: #0087ff; text-decoration-color: #0087ff\">Bidirectional</span>)                 │                        │               │\n",
       "├─────────────────────────────────┼────────────────────────┼───────────────┤\n",
       "│ dropout_15 (<span style=\"color: #0087ff; text-decoration-color: #0087ff\">Dropout</span>)            │ (<span style=\"color: #00d7ff; text-decoration-color: #00d7ff\">None</span>, <span style=\"color: #00af00; text-decoration-color: #00af00\">10</span>, <span style=\"color: #00af00; text-decoration-color: #00af00\">128</span>)        │             <span style=\"color: #00af00; text-decoration-color: #00af00\">0</span> │\n",
       "├─────────────────────────────────┼────────────────────────┼───────────────┤\n",
       "│ bidirectional_20                │ (<span style=\"color: #00d7ff; text-decoration-color: #00d7ff\">None</span>, <span style=\"color: #00af00; text-decoration-color: #00af00\">128</span>)            │        <span style=\"color: #00af00; text-decoration-color: #00af00\">98,816</span> │\n",
       "│ (<span style=\"color: #0087ff; text-decoration-color: #0087ff\">Bidirectional</span>)                 │                        │               │\n",
       "├─────────────────────────────────┼────────────────────────┼───────────────┤\n",
       "│ repeat_vector_4 (<span style=\"color: #0087ff; text-decoration-color: #0087ff\">RepeatVector</span>)  │ (<span style=\"color: #00d7ff; text-decoration-color: #00d7ff\">None</span>, <span style=\"color: #00af00; text-decoration-color: #00af00\">10</span>, <span style=\"color: #00af00; text-decoration-color: #00af00\">128</span>)        │             <span style=\"color: #00af00; text-decoration-color: #00af00\">0</span> │\n",
       "├─────────────────────────────────┼────────────────────────┼───────────────┤\n",
       "│ bidirectional_21                │ (<span style=\"color: #00d7ff; text-decoration-color: #00d7ff\">None</span>, <span style=\"color: #00af00; text-decoration-color: #00af00\">10</span>, <span style=\"color: #00af00; text-decoration-color: #00af00\">128</span>)        │        <span style=\"color: #00af00; text-decoration-color: #00af00\">98,816</span> │\n",
       "│ (<span style=\"color: #0087ff; text-decoration-color: #0087ff\">Bidirectional</span>)                 │                        │               │\n",
       "├─────────────────────────────────┼────────────────────────┼───────────────┤\n",
       "│ dropout_16 (<span style=\"color: #0087ff; text-decoration-color: #0087ff\">Dropout</span>)            │ (<span style=\"color: #00d7ff; text-decoration-color: #00d7ff\">None</span>, <span style=\"color: #00af00; text-decoration-color: #00af00\">10</span>, <span style=\"color: #00af00; text-decoration-color: #00af00\">128</span>)        │             <span style=\"color: #00af00; text-decoration-color: #00af00\">0</span> │\n",
       "├─────────────────────────────────┼────────────────────────┼───────────────┤\n",
       "│ bidirectional_22                │ (<span style=\"color: #00d7ff; text-decoration-color: #00d7ff\">None</span>, <span style=\"color: #00af00; text-decoration-color: #00af00\">10</span>, <span style=\"color: #00af00; text-decoration-color: #00af00\">256</span>)        │       <span style=\"color: #00af00; text-decoration-color: #00af00\">263,168</span> │\n",
       "│ (<span style=\"color: #0087ff; text-decoration-color: #0087ff\">Bidirectional</span>)                 │                        │               │\n",
       "├─────────────────────────────────┼────────────────────────┼───────────────┤\n",
       "│ dropout_17 (<span style=\"color: #0087ff; text-decoration-color: #0087ff\">Dropout</span>)            │ (<span style=\"color: #00d7ff; text-decoration-color: #00d7ff\">None</span>, <span style=\"color: #00af00; text-decoration-color: #00af00\">10</span>, <span style=\"color: #00af00; text-decoration-color: #00af00\">256</span>)        │             <span style=\"color: #00af00; text-decoration-color: #00af00\">0</span> │\n",
       "├─────────────────────────────────┼────────────────────────┼───────────────┤\n",
       "│ time_distributed_4              │ (<span style=\"color: #00d7ff; text-decoration-color: #00d7ff\">None</span>, <span style=\"color: #00af00; text-decoration-color: #00af00\">10</span>, <span style=\"color: #00af00; text-decoration-color: #00af00\">18</span>)         │         <span style=\"color: #00af00; text-decoration-color: #00af00\">4,626</span> │\n",
       "│ (<span style=\"color: #0087ff; text-decoration-color: #0087ff\">TimeDistributed</span>)               │                        │               │\n",
       "└─────────────────────────────────┴────────────────────────┴───────────────┘\n",
       "</pre>\n"
      ],
      "text/plain": [
       "┏━━━━━━━━━━━━━━━━━━━━━━━━━━━━━━━━━┳━━━━━━━━━━━━━━━━━━━━━━━━┳━━━━━━━━━━━━━━━┓\n",
       "┃\u001b[1m \u001b[0m\u001b[1mLayer (type)                   \u001b[0m\u001b[1m \u001b[0m┃\u001b[1m \u001b[0m\u001b[1mOutput Shape          \u001b[0m\u001b[1m \u001b[0m┃\u001b[1m \u001b[0m\u001b[1m      Param #\u001b[0m\u001b[1m \u001b[0m┃\n",
       "┡━━━━━━━━━━━━━━━━━━━━━━━━━━━━━━━━━╇━━━━━━━━━━━━━━━━━━━━━━━━╇━━━━━━━━━━━━━━━┩\n",
       "│ input_layer_4 (\u001b[38;5;33mInputLayer\u001b[0m)      │ (\u001b[38;5;45mNone\u001b[0m, \u001b[38;5;34m10\u001b[0m, \u001b[38;5;34m18\u001b[0m)         │             \u001b[38;5;34m0\u001b[0m │\n",
       "├─────────────────────────────────┼────────────────────────┼───────────────┤\n",
       "│ bidirectional_18                │ (\u001b[38;5;45mNone\u001b[0m, \u001b[38;5;34m10\u001b[0m, \u001b[38;5;34m256\u001b[0m)        │       \u001b[38;5;34m150,528\u001b[0m │\n",
       "│ (\u001b[38;5;33mBidirectional\u001b[0m)                 │                        │               │\n",
       "├─────────────────────────────────┼────────────────────────┼───────────────┤\n",
       "│ dropout_14 (\u001b[38;5;33mDropout\u001b[0m)            │ (\u001b[38;5;45mNone\u001b[0m, \u001b[38;5;34m10\u001b[0m, \u001b[38;5;34m256\u001b[0m)        │             \u001b[38;5;34m0\u001b[0m │\n",
       "├─────────────────────────────────┼────────────────────────┼───────────────┤\n",
       "│ bidirectional_19                │ (\u001b[38;5;45mNone\u001b[0m, \u001b[38;5;34m10\u001b[0m, \u001b[38;5;34m128\u001b[0m)        │       \u001b[38;5;34m164,352\u001b[0m │\n",
       "│ (\u001b[38;5;33mBidirectional\u001b[0m)                 │                        │               │\n",
       "├─────────────────────────────────┼────────────────────────┼───────────────┤\n",
       "│ dropout_15 (\u001b[38;5;33mDropout\u001b[0m)            │ (\u001b[38;5;45mNone\u001b[0m, \u001b[38;5;34m10\u001b[0m, \u001b[38;5;34m128\u001b[0m)        │             \u001b[38;5;34m0\u001b[0m │\n",
       "├─────────────────────────────────┼────────────────────────┼───────────────┤\n",
       "│ bidirectional_20                │ (\u001b[38;5;45mNone\u001b[0m, \u001b[38;5;34m128\u001b[0m)            │        \u001b[38;5;34m98,816\u001b[0m │\n",
       "│ (\u001b[38;5;33mBidirectional\u001b[0m)                 │                        │               │\n",
       "├─────────────────────────────────┼────────────────────────┼───────────────┤\n",
       "│ repeat_vector_4 (\u001b[38;5;33mRepeatVector\u001b[0m)  │ (\u001b[38;5;45mNone\u001b[0m, \u001b[38;5;34m10\u001b[0m, \u001b[38;5;34m128\u001b[0m)        │             \u001b[38;5;34m0\u001b[0m │\n",
       "├─────────────────────────────────┼────────────────────────┼───────────────┤\n",
       "│ bidirectional_21                │ (\u001b[38;5;45mNone\u001b[0m, \u001b[38;5;34m10\u001b[0m, \u001b[38;5;34m128\u001b[0m)        │        \u001b[38;5;34m98,816\u001b[0m │\n",
       "│ (\u001b[38;5;33mBidirectional\u001b[0m)                 │                        │               │\n",
       "├─────────────────────────────────┼────────────────────────┼───────────────┤\n",
       "│ dropout_16 (\u001b[38;5;33mDropout\u001b[0m)            │ (\u001b[38;5;45mNone\u001b[0m, \u001b[38;5;34m10\u001b[0m, \u001b[38;5;34m128\u001b[0m)        │             \u001b[38;5;34m0\u001b[0m │\n",
       "├─────────────────────────────────┼────────────────────────┼───────────────┤\n",
       "│ bidirectional_22                │ (\u001b[38;5;45mNone\u001b[0m, \u001b[38;5;34m10\u001b[0m, \u001b[38;5;34m256\u001b[0m)        │       \u001b[38;5;34m263,168\u001b[0m │\n",
       "│ (\u001b[38;5;33mBidirectional\u001b[0m)                 │                        │               │\n",
       "├─────────────────────────────────┼────────────────────────┼───────────────┤\n",
       "│ dropout_17 (\u001b[38;5;33mDropout\u001b[0m)            │ (\u001b[38;5;45mNone\u001b[0m, \u001b[38;5;34m10\u001b[0m, \u001b[38;5;34m256\u001b[0m)        │             \u001b[38;5;34m0\u001b[0m │\n",
       "├─────────────────────────────────┼────────────────────────┼───────────────┤\n",
       "│ time_distributed_4              │ (\u001b[38;5;45mNone\u001b[0m, \u001b[38;5;34m10\u001b[0m, \u001b[38;5;34m18\u001b[0m)         │         \u001b[38;5;34m4,626\u001b[0m │\n",
       "│ (\u001b[38;5;33mTimeDistributed\u001b[0m)               │                        │               │\n",
       "└─────────────────────────────────┴────────────────────────┴───────────────┘\n"
      ]
     },
     "metadata": {},
     "output_type": "display_data"
    },
    {
     "data": {
      "text/html": [
       "<pre style=\"white-space:pre;overflow-x:auto;line-height:normal;font-family:Menlo,'DejaVu Sans Mono',consolas,'Courier New',monospace\"><span style=\"font-weight: bold\"> Total params: </span><span style=\"color: #00af00; text-decoration-color: #00af00\">780,306</span> (2.98 MB)\n",
       "</pre>\n"
      ],
      "text/plain": [
       "\u001b[1m Total params: \u001b[0m\u001b[38;5;34m780,306\u001b[0m (2.98 MB)\n"
      ]
     },
     "metadata": {},
     "output_type": "display_data"
    },
    {
     "data": {
      "text/html": [
       "<pre style=\"white-space:pre;overflow-x:auto;line-height:normal;font-family:Menlo,'DejaVu Sans Mono',consolas,'Courier New',monospace\"><span style=\"font-weight: bold\"> Trainable params: </span><span style=\"color: #00af00; text-decoration-color: #00af00\">780,306</span> (2.98 MB)\n",
       "</pre>\n"
      ],
      "text/plain": [
       "\u001b[1m Trainable params: \u001b[0m\u001b[38;5;34m780,306\u001b[0m (2.98 MB)\n"
      ]
     },
     "metadata": {},
     "output_type": "display_data"
    },
    {
     "data": {
      "text/html": [
       "<pre style=\"white-space:pre;overflow-x:auto;line-height:normal;font-family:Menlo,'DejaVu Sans Mono',consolas,'Courier New',monospace\"><span style=\"font-weight: bold\"> Non-trainable params: </span><span style=\"color: #00af00; text-decoration-color: #00af00\">0</span> (0.00 B)\n",
       "</pre>\n"
      ],
      "text/plain": [
       "\u001b[1m Non-trainable params: \u001b[0m\u001b[38;5;34m0\u001b[0m (0.00 B)\n"
      ]
     },
     "metadata": {},
     "output_type": "display_data"
    }
   ],
   "source": [
    "from tensorflow.keras.layers import Input, Bidirectional, LSTM, RepeatVector, TimeDistributed, Dense, Dropout\n",
    "from tensorflow.keras.models import Model\n",
    "from tensorflow.keras.optimizers import Adam\n",
    "from tensorflow.keras.losses import MeanAbsoluteError\n",
    "\n",
    "n_features = X_train_scaled.shape[1]\n",
    "\n",
    "inputs = Input(shape=(seq_length, n_features))\n",
    "x = inputs\n",
    "\n",
    "# Tieferer Encoder mit bidirektionalen LSTMs\n",
    "for units in encoder_layers:\n",
    "    x = Bidirectional(LSTM(units, return_sequences=True))(x)\n",
    "    x = Dropout(dropout_rate)(x)\n",
    "\n",
    "# Letzte Encoder-Schicht ohne return_sequences, nur den letzten Output\n",
    "encoded = Bidirectional(LSTM(encoder_layers[-1]))(x)\n",
    "\n",
    "# Tieferer Decoder\n",
    "x = RepeatVector(seq_length)(encoded)\n",
    "for units in decoder_layers:\n",
    "    x = Bidirectional(LSTM(units, return_sequences=True))(x)\n",
    "    x = Dropout(dropout_rate)(x)\n",
    "\n",
    "outputs = TimeDistributed(Dense(n_features, activation='linear'))(x)\n",
    "\n",
    "model = Model(inputs, outputs)\n",
    "model.compile(optimizer=Adam(learning_rate), loss='mse')\n",
    "model.summary()"
   ]
  },
  {
   "cell_type": "code",
   "execution_count": 128,
   "id": "b747efe5",
   "metadata": {},
   "outputs": [
    {
     "name": "stdout",
     "output_type": "stream",
     "text": [
      "Epoch 1/50\n"
     ]
    },
    {
     "name": "stderr",
     "output_type": "stream",
     "text": [
      "/home/ueay/bachelorarbeit-projekt/env/lib/python3.12/site-packages/keras/src/trainers/data_adapters/py_dataset_adapter.py:121: UserWarning: Your `PyDataset` class should call `super().__init__(**kwargs)` in its constructor. `**kwargs` can include `workers`, `use_multiprocessing`, `max_queue_size`. Do not pass these arguments to `fit()`, as they will be ignored.\n",
      "  self._warn_if_super_not_called()\n"
     ]
    },
    {
     "name": "stdout",
     "output_type": "stream",
     "text": [
      "\u001b[1m853/853\u001b[0m \u001b[32m━━━━━━━━━━━━━━━━━━━━\u001b[0m\u001b[37m\u001b[0m \u001b[1m67s\u001b[0m 62ms/step - loss: 0.7870 - val_loss: 0.4982\n",
      "Epoch 2/50\n",
      "\u001b[1m853/853\u001b[0m \u001b[32m━━━━━━━━━━━━━━━━━━━━\u001b[0m\u001b[37m\u001b[0m \u001b[1m55s\u001b[0m 65ms/step - loss: 0.6837 - val_loss: 0.5550\n"
     ]
    },
    {
     "data": {
      "text/plain": [
       "<keras.src.callbacks.history.History at 0x70b7c0f88740>"
      ]
     },
     "execution_count": 128,
     "metadata": {},
     "output_type": "execute_result"
    }
   ],
   "source": [
    "early_stop = EarlyStopping(monitor='val_loss', patience=1, restore_best_weights=True)\n",
    "model.fit(train_gen, epochs=50, callbacks=[early_stop], validation_data=val_gen)"
   ]
  },
  {
   "cell_type": "markdown",
   "id": "1d5ebaae",
   "metadata": {},
   "source": [
    "### Umwandlung der Daten für nächste Modelle: Rekonstruktionsfehler berechnen"
   ]
  },
  {
   "cell_type": "code",
   "execution_count": 129,
   "id": "81ede0b3",
   "metadata": {},
   "outputs": [],
   "source": [
    "def get_reconstruction_errors(gen, model):\n",
    "    errors = []\n",
    "    for i in range(len(gen)):\n",
    "        X_batch, _ = gen[i]\n",
    "        pred = model.predict(X_batch, verbose=0)\n",
    "        batch_errors = np.mean(np.square(X_batch - pred), axis=(1, 2))\n",
    "        errors.extend(batch_errors)\n",
    "    return np.array(errors)\n",
    "\n",
    "train_errors = get_reconstruction_errors(train_gen, model)\n",
    "val_errors = get_reconstruction_errors(val_gen, model)\n",
    "test_errors = get_reconstruction_errors(test_gen, model)\n",
    "\n",
    "reconstruction_errors = get_reconstruction_errors(test_gen, model)"
   ]
  },
  {
   "cell_type": "code",
   "execution_count": 130,
   "id": "00451659",
   "metadata": {},
   "outputs": [
    {
     "name": "stdout",
     "output_type": "stream",
     "text": [
      "Best Threshold by F1: 2.07340\n",
      "Precision: 0.818, Recall: 0.773, F1: 0.795, ROC-AUC: 0.966\n"
     ]
    }
   ],
   "source": [
    "from sklearn.metrics import precision_recall_curve, precision_recall_fscore_support, roc_auc_score\n",
    "import numpy as np\n",
    "\n",
    "y_test_seq = np.array([\n",
    "    int(np.any(y_test_full[i : i + seq_length] == 1))\n",
    "    for i in range(len(reconstruction_errors))\n",
    "])\n",
    "true_labels = y_test_seq.astype(int)\n",
    "\n",
    "precisions, recalls, thresholds = precision_recall_curve(true_labels, reconstruction_errors)\n",
    "f1_scores = 2 * (precisions * recalls) / (precisions + recalls + 1e-10)\n",
    "\n",
    "best_idx = np.argmax(f1_scores)\n",
    "optimal_threshold = thresholds[best_idx]\n",
    "\n",
    "y_pred = (reconstruction_errors > optimal_threshold).astype(int)\n",
    "\n",
    "precision, recall, f1, _ = precision_recall_fscore_support(true_labels, y_pred, average='binary')\n",
    "roc_auc = roc_auc_score(true_labels, reconstruction_errors)\n",
    "\n",
    "print(f\"Best Threshold by F1: {optimal_threshold:.5f}\")\n",
    "print(f\"Precision: {precision:.3f}, Recall: {recall:.3f}, F1: {f1:.3f}, ROC-AUC: {roc_auc:.3f}\")"
   ]
  },
  {
   "cell_type": "code",
   "execution_count": 131,
   "id": "7452d490",
   "metadata": {},
   "outputs": [],
   "source": [
    "scaler_rec = StandardScaler()\n",
    "scaler_rec.fit(train_errors.reshape(-1, 1))\n",
    "val_errors_scaled = scaler_rec.transform(val_errors.reshape(-1, 1))\n",
    "test_errors_scaled = scaler_rec.transform(test_errors.reshape(-1, 1))"
   ]
  },
  {
   "cell_type": "markdown",
   "id": "b1734c09",
   "metadata": {},
   "source": [
    "# Modell 1"
   ]
  },
  {
   "cell_type": "markdown",
   "id": "2f2c9f11",
   "metadata": {},
   "source": [
    "## Isolation Forest"
   ]
  },
  {
   "cell_type": "code",
   "execution_count": 132,
   "id": "d6c7b6a7",
   "metadata": {},
   "outputs": [
    {
     "name": "stdout",
     "output_type": "stream",
     "text": [
      "IsolationForest Best Threshold by F1: 0.18696\n",
      "Precision: 0.824, Recall: 0.766, F1: 0.794, ROC-AUC: 0.955, AUC-PR: 0.635623697707966\n",
      "Matthews Correlation Coefficient: 0.7896394583119458, Balanced Accuracy: 0.8809845055710306\n"
     ]
    }
   ],
   "source": [
    "iforest = IsolationForest(random_state=42)\n",
    "iforest.fit(train_errors.reshape(-1, 1))\n",
    "\n",
    "scores_if = iforest.decision_function(test_errors.reshape(-1, 1))\n",
    "precisions_if, recalls_if, thresholds_if = precision_recall_curve(y_test_seq, -scores_if)\n",
    "best_f1_scores_if = 2 * (precisions_if * recalls_if) / (precisions_if + recalls_if + 1e-10)\n",
    "best_idx_if = np.argmax(best_f1_scores_if)\n",
    "optimal_threshold_if = thresholds_if[best_idx_if]\n",
    "y_pred_if = ((-scores_if) > optimal_threshold_if).astype(int)\n",
    "\n",
    "precision_if, recall_if, f1_if, _ = precision_recall_fscore_support(y_test_seq, y_pred_if, average='binary')\n",
    "roc_auc_if = roc_auc_score(y_test_seq, -scores_if)\n",
    "pr_auc_if = average_precision_score(y_test_seq, y_pred_if)\n",
    "fpr, tpr, _ = roc_curve(y_test_seq, y_pred_if)\n",
    "\n",
    "mcc_if = matthews_corrcoef(y_test_seq, y_pred_if)\n",
    "balanced_acc = balanced_accuracy_score(y_test_seq, y_pred_if)\n",
    "\n",
    "print(f\"IsolationForest Best Threshold by F1: {optimal_threshold_if:.5f}\")\n",
    "print(f\"Precision: {precision_if:.3f}, Recall: {recall_if:.3f}, F1: {f1_if:.3f}, ROC-AUC: {roc_auc_if:.3f}, AUC-PR: {pr_auc_if}\")\n",
    "print(f\"Matthews Correlation Coefficient: {mcc_if}, Balanced Accuracy: {balanced_acc}\")"
   ]
  },
  {
   "cell_type": "markdown",
   "id": "e136e11a",
   "metadata": {},
   "source": [
    "### IF AUC-Kurven"
   ]
  },
  {
   "cell_type": "code",
   "execution_count": 133,
   "id": "add85360",
   "metadata": {},
   "outputs": [
    {
     "data": {
      "image/png": "[encoded data removed]",
      "text/plain": [
       "<Figure size 1200x500 with 1 Axes>"
      ]
     },
     "metadata": {},
     "output_type": "display_data"
    },
    {
     "data": {
      "image/png": "[encoded data removed]",
      "text/plain": [
       "<Figure size 640x480 with 1 Axes>"
      ]
     },
     "metadata": {},
     "output_type": "display_data"
    }
   ],
   "source": [
    "plt.figure(figsize=(12, 5))\n",
    "\n",
    "# ROC Plot\n",
    "plt.subplot(1, 2, 1)\n",
    "plt.plot(fpr, tpr, label=f\"AUC = {roc_auc_if:.3f}\")\n",
    "plt.plot([0, 1], [0, 1], linestyle=\"--\", color=\"gray\")\n",
    "plt.xlabel(\"False Positive Rate\")\n",
    "plt.ylabel(\"True Positive Rate\")\n",
    "plt.title(\"ROC Curve (Validation)\")\n",
    "plt.legend()\n",
    "plt.tight_layout()\n",
    "#plt.savefig('roc_curve_if.png', dpi=300)\n",
    "#plt.close()\n",
    "plt.show()\n",
    "\n",
    "# PR Plot\n",
    "plt.subplot(1, 2, 2)\n",
    "plt.plot(recalls_if, precisions_if, label=f\"AP = {pr_auc_if:.3f}\")\n",
    "plt.xlabel(\"Recall\")\n",
    "plt.ylabel(\"Precision\")\n",
    "plt.title(\"Precision-Recall Curve (Validation)\")\n",
    "plt.legend()\n",
    "plt.tight_layout()\n",
    "#plt.savefig('pr_curve_if.png', dpi=300)\n",
    "#plt.close()\n",
    "plt.show()"
   ]
  },
  {
   "cell_type": "markdown",
   "id": "142607f1",
   "metadata": {},
   "source": [
    "# Modell 2"
   ]
  },
  {
   "cell_type": "markdown",
   "id": "2c53e25c",
   "metadata": {},
   "source": [
    "## One-Class SVM"
   ]
  },
  {
   "cell_type": "code",
   "execution_count": 134,
   "id": "a9085760",
   "metadata": {},
   "outputs": [
    {
     "name": "stdout",
     "output_type": "stream",
     "text": [
      "One-Class SVM Best Threshold by F1: 3971.67902\n",
      "Precision: 0.818, Recall: 0.773, F1: 0.795, ROC-AUC: 0.907, MCC: 0.791, Balanced Accuracy: 0.8848037082172702\n"
     ]
    }
   ],
   "source": [
    "ocsvm = OneClassSVM()\n",
    "ocsvm.fit(train_errors.reshape(-1,1))\n",
    "\n",
    "scores_ocsvm = ocsvm.decision_function(test_errors.reshape(-1, 1))  # kleiner = anomal\n",
    "precisions_ocsvm, recalls_ocsvm, thresholds_ocsvm = precision_recall_curve(y_test_seq, -scores_ocsvm)\n",
    "f1_scores_ocsvm = 2 * (precisions_ocsvm * recalls_ocsvm) / (precisions_ocsvm + recalls_ocsvm + 1e-10)\n",
    "best_idx_ocsvm = np.argmax(f1_scores_ocsvm)\n",
    "optimal_threshold_ocsvm = thresholds_ocsvm[best_idx_ocsvm]\n",
    "\n",
    "# Vorhersagen auf Testset\n",
    "y_pred_ocsvm = ((-scores_ocsvm) > optimal_threshold_ocsvm).astype(int)\n",
    "\n",
    "# Metriken\n",
    "precision_ocsvm, recall_ocsvm, f1_ocsvm, _ = precision_recall_fscore_support(y_test_seq, y_pred_ocsvm, average='binary')\n",
    "roc_auc_ocsvm = roc_auc_score(y_test_seq, -scores_ocsvm)\n",
    "fpr, tpr, _ = roc_curve(y_test_seq, y_pred_ocsvm)\n",
    "pr_auc = average_precision_score(y_test_seq, y_pred_ocsvm)\n",
    "\n",
    "mcc_ocsvm = matthews_corrcoef(y_test_seq, y_pred_ocsvm)\n",
    "balanced_acc = balanced_accuracy_score(y_test_seq, y_pred_ocsvm)\n",
    "\n",
    "print(f\"One-Class SVM Best Threshold by F1: {optimal_threshold_ocsvm:.5f}\")\n",
    "print(f\"Precision: {precision_ocsvm:.3f}, Recall: {recall_ocsvm:.3f}, F1: {f1_ocsvm:.3f}, ROC-AUC: {roc_auc_ocsvm:.3f}, MCC: {mcc_ocsvm:.3f}, Balanced Accuracy: {balanced_acc}\")"
   ]
  },
  {
   "cell_type": "markdown",
   "id": "e80340a9",
   "metadata": {},
   "source": [
    "### OCSVM AUC-Kurven"
   ]
  },
  {
   "cell_type": "code",
   "execution_count": 135,
   "id": "2c8b1fc2",
   "metadata": {},
   "outputs": [
    {
     "data": {
      "image/png": "[encoded data removed]",
      "text/plain": [
       "<Figure size 1200x500 with 1 Axes>"
      ]
     },
     "metadata": {},
     "output_type": "display_data"
    },
    {
     "data": {
      "image/png": "[encoded data removed]",
      "text/plain": [
       "<Figure size 640x480 with 1 Axes>"
      ]
     },
     "metadata": {},
     "output_type": "display_data"
    }
   ],
   "source": [
    "# Plotten\n",
    "plt.figure(figsize=(12, 5))\n",
    "\n",
    "# ROC OCSVM\n",
    "plt.subplot(1, 2, 1)\n",
    "plt.plot(fpr, tpr, label=f\"AUC = {roc_auc_ocsvm:.3f}\")\n",
    "plt.plot([0, 1], [0, 1], linestyle=\"--\", color=\"gray\")\n",
    "plt.xlabel(\"False Positive Rate\")\n",
    "plt.ylabel(\"True Positive Rate\")\n",
    "plt.title(\"ROC Curve (Validation)\")\n",
    "plt.legend()\n",
    "plt.tight_layout()\n",
    "#plt.savefig('roc_curve_ocsvm.png', dpi=300)\n",
    "#plt.close()\n",
    "plt.show()\n",
    "\n",
    "# PR OCSVM\n",
    "plt.subplot(1, 2, 2)\n",
    "plt.plot(recalls_ocsvm, precisions_ocsvm, label=f\"AP = {pr_auc:.3f}\")\n",
    "plt.xlabel(\"Recall\")\n",
    "plt.ylabel(\"Precision\")\n",
    "plt.title(\"Precision-Recall Curve (Validation)\")\n",
    "plt.legend()\n",
    "plt.tight_layout()\n",
    "#plt.savefig('pr_curve_ocsvm.png', dpi=300)\n",
    "#plt.close()\n",
    "plt.show()"
   ]
  },
  {
   "cell_type": "markdown",
   "id": "fbec00d7",
   "metadata": {},
   "source": [
    "# Modell 3"
   ]
  },
  {
   "cell_type": "markdown",
   "id": "2d99cac7",
   "metadata": {},
   "source": [
    "## DBSCAN"
   ]
  },
  {
   "cell_type": "code",
   "execution_count": 136,
   "id": "97aea0ec",
   "metadata": {},
   "outputs": [
    {
     "name": "stdout",
     "output_type": "stream",
     "text": [
      "DBSCAN Best Threshold by F1: 2.07340\n",
      "Precision: 1.000, Recall: 0.156, F1: 0.270, MCC: 0.392, Balanced Accuracy: 0.578\n"
     ]
    }
   ],
   "source": [
    "dbscan = DBSCAN()\n",
    "labels = dbscan.fit_predict(test_errors.reshape(-1,1))\n",
    "dbscan_scores = test_errors  # höhere Fehler = wahrscheinliche Anomalie\n",
    "\n",
    "# F1-basierter Threshold\n",
    "precisions_dbscan, recalls_dbscan, thresholds_dbscan = precision_recall_curve(y_test_seq, dbscan_scores)\n",
    "f1_scores_dbscan = 2 * (precisions_dbscan * recalls_dbscan) / (precisions_dbscan + recalls_dbscan + 1e-10)\n",
    "best_idx_dbscan = np.argmax(f1_scores_dbscan)\n",
    "optimal_threshold_dbscan = thresholds_dbscan[best_idx_dbscan]\n",
    "\n",
    "# Vorhersage\n",
    "y_pred_dbscan = (labels == -1).astype(int)  # 1 = Anomalie, 0 = normal\n",
    "precision_dbscan, recall_dbscan, f1_dbscan, _ = precision_recall_fscore_support(y_test_seq, y_pred_dbscan, average='binary')\n",
    "fpr, tpr, _ = roc_curve(y_test_seq, y_pred_dbscan)\n",
    "roc_auc = roc_auc_score(y_test_seq, y_pred_dbscan)\n",
    "pr_auc = average_precision_score(y_test_seq, y_pred_dbscan)\n",
    "\n",
    "mcc_dbscan = matthews_corrcoef(y_test_seq, y_pred_dbscan)\n",
    "balanced_acc = balanced_accuracy_score(y_test_seq, y_pred_dbscan)\n",
    "\n",
    "print(f\"DBSCAN Best Threshold by F1: {optimal_threshold_dbscan:.5f}\")\n",
    "print(f\"Precision: {precision_dbscan:.3f}, Recall: {recall_dbscan:.3f}, F1: {f1_dbscan:.3f}, MCC: {mcc_dbscan:.3f}, Balanced Accuracy: {balanced_acc:.3f}\")"
   ]
  },
  {
   "cell_type": "markdown",
   "id": "2569e8b7",
   "metadata": {},
   "source": [
    "### DBSCAN AUC-Kurven"
   ]
  },
  {
   "cell_type": "code",
   "execution_count": 137,
   "id": "5fd99071",
   "metadata": {},
   "outputs": [
    {
     "data": {
      "image/png": "[encoded data removed]",
      "text/plain": [
       "<Figure size 640x480 with 1 Axes>"
      ]
     },
     "metadata": {},
     "output_type": "display_data"
    },
    {
     "data": {
      "image/png": "[encoded data removed]",
      "text/plain": [
       "<Figure size 640x480 with 1 Axes>"
      ]
     },
     "metadata": {},
     "output_type": "display_data"
    }
   ],
   "source": [
    "# ROC-Kurve\n",
    "plt.subplot(1, 2, 1)\n",
    "plt.plot(fpr, tpr, label=f\"AUC = {roc_auc:.3f}\")\n",
    "plt.plot([0, 1], [0, 1], linestyle=\"--\", color=\"gray\")\n",
    "plt.xlabel(\"False Positive Rate\")\n",
    "plt.ylabel(\"True Positive Rate\")\n",
    "plt.title(\"ROC Curve (DBSCAN)\")\n",
    "plt.legend()\n",
    "#plt.savefig('roc_curve_dbscan.png', dpi=300)\n",
    "#plt.close()\n",
    "plt.show()\n",
    "\n",
    "# PR-Kurve\n",
    "plt.subplot(1, 2, 2)\n",
    "plt.plot(recalls_dbscan, precisions_dbscan, label=f\"AP = {pr_auc:.3f}\")\n",
    "plt.xlabel(\"Recall\")\n",
    "plt.ylabel(\"Precision\")\n",
    "plt.title(\"Precision-Recall Curve (DBSCAN)\")\n",
    "plt.legend()\n",
    "plt.tight_layout()\n",
    "#plt.savefig('pr_curve_dbscan.png', dpi=300)\n",
    "#plt.close()\n",
    "plt.show()"
   ]
  },
  {
   "cell_type": "markdown",
   "id": "8b9f66d3",
   "metadata": {},
   "source": [
    "## Cross Validation Test"
   ]
  },
  {
   "cell_type": "markdown",
   "id": "d85056e1",
   "metadata": {},
   "source": [
    "### Für LSTM-AE und IF"
   ]
  },
  {
   "cell_type": "code",
   "execution_count": null,
   "id": "4a00c081",
   "metadata": {},
   "outputs": [],
   "source": [
    "from sklearn.model_selection import KFold\n",
    "from sklearn.ensemble import IsolationForest\n",
    "import numpy as np\n",
    "\n",
    "n_splits = 5\n",
    "kf = KFold(n_splits=n_splits, shuffle=True, random_state=42)\n",
    "\n",
    "all_precisions, all_recalls, all_f1s, all_roc_aucs = [], [], [], []\n",
    "\n",
    "for fold, (train_idx, test_idx) in enumerate(kf.split(X_test_full)):\n",
    "    print(f\"Fold {fold + 1}/{n_splits}\")\n",
    "\n",
    "    model.fit(train_gen, validation_data=val_gen, epochs=50, callbacks=[early_stop], verbose=0)\n",
    "\n",
    "    iforest = IsolationForest()\n",
    "    iforest.fit(train_errors.reshape(-1, 1))\n",
    "\n",
    "    test_preds_if = iforest.predict(test_errors.reshape(-1, 1))\n",
    "    val_anomaly_if = (test_preds_if == -1).astype(int)\n",
    "\n",
    "    y_test_seq_if = np.array([y_test_full[i + seq_length- 1] for i in range(len(val_anomaly_if))])\n",
    "    true_labels_if = y_test_seq_if.astype(int)\n",
    "\n",
    "    precision, recall, f1, _ = precision_recall_fscore_support(true_labels, y_pred, average='binary')\n",
    "    roc_auc = roc_auc_score(true_labels, iforest.decision_function(test_errors.reshape(-1, 1)) * -1)\n",
    "\n",
    "    all_precisions.append(precision)\n",
    "    all_recalls.append(recall)\n",
    "    all_f1s.append(f1)\n",
    "    all_roc_aucs.append(roc_auc)\n",
    "\n",
    "    print(f\"Mean Precision: {np.mean(all_precisions):.3f} ± {np.std(all_precisions):.3f}\")\n",
    "    print(f\"Mean Recall: {np.mean(all_recalls):.3f} ± {np.std(all_recalls):.3f}\")\n",
    "    print(f\"Mean F1-Score: {np.mean(all_f1s):.3f} ± {np.std(all_f1s):.3f}\")\n",
    "    print(f\"Mean ROC-AUC: {np.mean(all_roc_aucs):.3f} ± {np.std(all_roc_aucs):.3f}\")"
   ]
  },
  {
   "cell_type": "markdown",
   "id": "dbe55044",
   "metadata": {},
   "source": [
    "### Für LSTM-AE und OCSVM"
   ]
  },
  {
   "cell_type": "code",
   "execution_count": null,
   "id": "1d53ac91",
   "metadata": {},
   "outputs": [],
   "source": [
    "from sklearn.model_selection import KFold\n",
    "from sklearn.ensemble import IsolationForest\n",
    "import numpy as np\n",
    "\n",
    "n_splits = 5\n",
    "kf = KFold(n_splits=n_splits, shuffle=True, random_state=42)\n",
    "\n",
    "all_precisions, all_recalls, all_f1s, all_roc_aucs = [], [], [], []\n",
    "\n",
    "for fold, (train_idx, test_idx) in enumerate(kf.split(X_test_full)):\n",
    "    print(f\"Fold {fold + 1}/{n_splits}\")\n",
    "\n",
    "    model.fit(train_gen, validation_data=val_gen, epochs=50, callbacks=[early_stop], verbose=0)\n",
    "    ocsvm = OneClassSVM(nu=0.005, gamma=50)\n",
    "    ocsvm.fit(train_errors.reshape(-1, 1))\n",
    "\n",
    "    test_preds_ocsvm = ocsvm.predict(test_errors.reshape(-1, 1))\n",
    "    test_anomaly_ocsvm = (test_preds_ocsvm == -1).astype(int)\n",
    "\n",
    "    y_test_seq_ocsvm = np.array([y_test_full[i + seq_length - 1] for i in range(len(test_anomaly_ocsvm))])\n",
    "    true_labels_ocsvm = y_test_seq.astype(int)\n",
    "\n",
    "    report_ocsvm = classification_report(true_labels_ocsvm, test_anomaly_ocsvm)\n",
    "\n",
    "    all_precisions.append(precision)\n",
    "    all_recalls.append(recall)\n",
    "    all_f1s.append(f1)\n",
    "    all_roc_aucs.append(roc_auc)\n",
    "\n",
    "    print(f\"Mean Precision: {np.mean(all_precisions):.3f} ± {np.std(all_precisions):.3f}\")\n",
    "    print(f\"Mean Recall: {np.mean(all_recalls):.3f} ± {np.std(all_recalls):.3f}\")\n",
    "    print(f\"Mean F1-Score: {np.mean(all_f1s):.3f} ± {np.std(all_f1s):.3f}\")\n",
    "    print(f\"Mean ROC-AUC: {np.mean(all_roc_aucs):.3f} ± {np.std(all_roc_aucs):.3f}\")"
   ]
  },
  {
   "cell_type": "markdown",
   "id": "8e4e07bf",
   "metadata": {},
   "source": [
    "### Für LSTM-AE und DBSCAN"
   ]
  },
  {
   "cell_type": "code",
   "execution_count": null,
   "id": "abdb81bf",
   "metadata": {},
   "outputs": [],
   "source": [
    "from sklearn.model_selection import KFold\n",
    "from sklearn.ensemble import IsolationForest\n",
    "import numpy as np\n",
    "\n",
    "n_splits = 5\n",
    "kf = KFold(n_splits=n_splits, shuffle=True, random_state=42)\n",
    "\n",
    "all_precisions, all_recalls, all_f1s, all_roc_aucs = [], [], [], []\n",
    "\n",
    "for fold, (train_idx, test_idx) in enumerate(kf.split(X_test_full)):\n",
    "    print(f\"Fold {fold + 1}/{n_splits}\")\n",
    "\n",
    "    model.fit(train_gen, validation_data=val_gen, epochs=50, callbacks=[early_stop], verbose=0)\n",
    "    dbscan = DBSCAN(eps = 0.05, min_samples = 40)\n",
    "\n",
    "    dbscan_labels = dbscan.fit_predict(test_errors.reshape(-1, 1))\n",
    "    dbscan_anomaly = (dbscan_labels == -1).astype(int)\n",
    "\n",
    "    y_test_seq_dbscan = np.array([y_test_full[i + seq_length - 1] for i in range(len(dbscan_anomaly))])\n",
    "    true_labels_dbscan = y_test_seq_dbscan.astype(int)\n",
    "    \n",
    "    all_precisions.append(precision)\n",
    "    all_recalls.append(recall)\n",
    "    all_f1s.append(f1)\n",
    "    all_roc_aucs.append(roc_auc)\n",
    "\n",
    "    print(f\"Mean Precision: {np.mean(all_precisions):.3f} ± {np.std(all_precisions):.3f}\")\n",
    "    print(f\"Mean Recall: {np.mean(all_recalls):.3f} ± {np.std(all_recalls):.3f}\")\n",
    "    print(f\"Mean F1-Score: {np.mean(all_f1s):.3f} ± {np.std(all_f1s):.3f}\")\n",
    "    print(f\"Mean ROC-AUC: {np.mean(all_roc_aucs):.3f} ± {np.std(all_roc_aucs):.3f}\")"
   ]
  }
 ],
 "metadata": {
  "kernelspec": {
   "display_name": "env",
   "language": "python",
   "name": "python3"
  },
  "language_info": {
   "codemirror_mode": {
    "name": "ipython",
    "version": 3
   },
   "file_extension": ".py",
   "mimetype": "text/x-python",
   "name": "python",
   "nbconvert_exporter": "python",
   "pygments_lexer": "ipython3",
   "version": "3.12.3"
  }
 },
 "nbformat": 4,
 "nbformat_minor": 5
}
