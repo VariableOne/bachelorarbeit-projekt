{
 "cells": [
  {
   "cell_type": "markdown",
   "id": "cb6abdb9",
   "metadata": {},
   "source": [
    "# Ein Hybridmodell mit LSTM-AE, DBSCAN und IF"
   ]
  },
  {
   "cell_type": "code",
   "execution_count": 1,
   "id": "8183868f",
   "metadata": {
    "execution": {
     "iopub.execute_input": "2025-06-18T11:28:04.714101Z",
     "iopub.status.busy": "2025-06-18T11:28:04.714004Z",
     "iopub.status.idle": "2025-06-18T11:28:06.493056Z",
     "shell.execute_reply": "2025-06-18T11:28:06.492680Z"
    }
   },
   "outputs": [
    {
     "name": "stderr",
     "output_type": "stream",
     "text": [
      "2025-07-16 15:05:26.144714: E external/local_xla/xla/stream_executor/cuda/cuda_fft.cc:467] Unable to register cuFFT factory: Attempting to register factory for plugin cuFFT when one has already been registered\n",
      "WARNING: All log messages before absl::InitializeLog() is called are written to STDERR\n",
      "E0000 00:00:1752671126.199418  143721 cuda_dnn.cc:8579] Unable to register cuDNN factory: Attempting to register factory for plugin cuDNN when one has already been registered\n",
      "E0000 00:00:1752671126.214648  143721 cuda_blas.cc:1407] Unable to register cuBLAS factory: Attempting to register factory for plugin cuBLAS when one has already been registered\n",
      "W0000 00:00:1752671126.245266  143721 computation_placer.cc:177] computation placer already registered. Please check linkage and avoid linking the same target more than once.\n",
      "W0000 00:00:1752671126.245296  143721 computation_placer.cc:177] computation placer already registered. Please check linkage and avoid linking the same target more than once.\n",
      "W0000 00:00:1752671126.245299  143721 computation_placer.cc:177] computation placer already registered. Please check linkage and avoid linking the same target more than once.\n",
      "W0000 00:00:1752671126.245302  143721 computation_placer.cc:177] computation placer already registered. Please check linkage and avoid linking the same target more than once.\n",
      "2025-07-16 15:05:26.254904: I tensorflow/core/platform/cpu_feature_guard.cc:210] This TensorFlow binary is optimized to use available CPU instructions in performance-critical operations.\n",
      "To enable the following instructions: AVX2 FMA, in other operations, rebuild TensorFlow with the appropriate compiler flags.\n"
     ]
    }
   ],
   "source": [
    "import numpy as np\n",
    "from sklearn.preprocessing import StandardScaler\n",
    "import pandas as pd\n",
    "from sklearn.cluster import DBSCAN\n",
    "from sklearn.metrics import classification_report\n",
    "from sklearn.ensemble import IsolationForest\n",
    "from sklearn.svm import OneClassSVM\n",
    "from sklearn.metrics import (\n",
    "    adjusted_rand_score,\n",
    "    homogeneity_score,\n",
    "    fowlkes_mallows_score\n",
    ")\n",
    "from matplotlib import pyplot as plt\n",
    "from sklearn.metrics import classification_report\n",
    "from tensorflow.keras.callbacks import EarlyStopping\n",
    "import tensorflow as tf\n",
    "from sklearn.metrics import precision_recall_fscore_support, roc_auc_score\n",
    "import logging\n",
    "from tensorflow.keras.layers import TimeDistributed, Dense, LSTM, Dropout, LayerNormalization, Input, Add, Bidirectional, RepeatVector\n",
    "from tensorflow.keras.models import Model\n",
    "from tensorflow.keras.optimizers import Adam\n",
    "from sklearn.metrics import roc_curve\n",
    "from sklearn.preprocessing import LabelEncoder, OneHotEncoder\n",
    "from sklearn.metrics import matthews_corrcoef\n",
    "from sklearn.metrics import balanced_accuracy_score\n",
    "import pandas as pd\n",
    "import os\n",
    "import sys\n",
    "import logging\n",
    "from sklearn.decomposition import PCA\n",
    "from sklearn.model_selection import train_test_split\n",
    "from sklearn.ensemble import IsolationForest\n",
    "from sklearn.metrics import classification_report\n",
    "from keras.layers import LSTM, Dropout, LayerNormalization, Add, TimeDistributed, Dense\n",
    "from sklearn.svm import OneClassSVM\n",
    "from sklearn.metrics import classification_report"
   ]
  },
  {
   "cell_type": "markdown",
   "id": "c4b37113",
   "metadata": {},
   "source": [
    "## 1. Vorbereitung"
   ]
  },
  {
   "cell_type": "markdown",
   "id": "89c0fe8b",
   "metadata": {},
   "source": [
    "#### Cuda auslassen, weil DGX verwendet wird"
   ]
  },
  {
   "cell_type": "code",
   "execution_count": 2,
   "id": "6b8427ea",
   "metadata": {
    "execution": {
     "iopub.execute_input": "2025-06-18T11:28:06.494898Z",
     "iopub.status.busy": "2025-06-18T11:28:06.494704Z",
     "iopub.status.idle": "2025-06-18T11:28:06.496740Z",
     "shell.execute_reply": "2025-06-18T11:28:06.496463Z"
    }
   },
   "outputs": [],
   "source": [
    "os.environ[\"CUDA_VISIBLE_DEVICES\"] = \"-1\""
   ]
  },
  {
   "cell_type": "markdown",
   "id": "185398f1",
   "metadata": {},
   "source": [
    "#### Daten laden"
   ]
  },
  {
   "cell_type": "code",
   "execution_count": 3,
   "id": "eb5a6c20",
   "metadata": {
    "execution": {
     "iopub.execute_input": "2025-06-18T11:28:06.497606Z",
     "iopub.status.busy": "2025-06-18T11:28:06.497509Z",
     "iopub.status.idle": "2025-06-18T11:28:07.234344Z",
     "shell.execute_reply": "2025-06-18T11:28:07.233957Z"
    }
   },
   "outputs": [
    {
     "name": "stdout",
     "output_type": "stream",
     "text": [
      "                         timestamp log_level             category  \\\n",
      "0 2025-07-14 04:48:46.534011+02:00      warn  org.keycloak.events   \n",
      "1 2025-07-14 06:37:18.492909+02:00      warn  org.keycloak.events   \n",
      "2 2025-07-15 14:14:20.683869+02:00       NaN                  NaN   \n",
      "3 2025-07-15 18:22:57.415589+02:00       NaN                  NaN   \n",
      "4 2025-07-15 18:30:15.424422+02:00      warn  org.keycloak.events   \n",
      "\n",
      "          type  realmId realmName                clientId        ipAddress  \\\n",
      "0  LOGIN_ERROR    bosch     bosch               admin-cli  198.123.114.208   \n",
      "1  LOGIN_ERROR  telekom   telekom               admin-cli  203.142.240.178   \n",
      "2          NaN      NaN       NaN                     NaN              NaN   \n",
      "3          NaN      NaN       NaN                     NaN              NaN   \n",
      "4  LOGIN_ERROR    bosch     bosch  security-admin-console    203.29.25.248   \n",
      "\n",
      "                 error username  \\\n",
      "0  invalid_credentials      Tom   \n",
      "1  invalid_credentials     Yara   \n",
      "2                  NaN      NaN   \n",
      "3                  NaN      NaN   \n",
      "4  invalid_credentials     Anna   \n",
      "\n",
      "                                             details  label  \\\n",
      "0  {'auth_type': 'openid-connect', 'connection': ...      1   \n",
      "1  {'auth_type': 'browser', 'connection': 'facebo...      1   \n",
      "2                                                NaN      1   \n",
      "3                                                NaN      1   \n",
      "4  {'auth_type': 'otp', 'connection': 'google', '...      1   \n",
      "\n",
      "                                     id  \\\n",
      "0                                   NaN   \n",
      "1                                   NaN   \n",
      "2  e9da8f8a-5f07-4c47-81bb-7aa8656dd246   \n",
      "3  3d25ee47-8de2-4bfd-bc5a-9c1d0e3a9efd   \n",
      "4                                   NaN   \n",
      "\n",
      "                                         authDetails operationType  \\\n",
      "0                                                NaN           NaN   \n",
      "1                                                NaN           NaN   \n",
      "2  {'userId': 'admin', 'ipAddress': '12.0.210.145...        CREATE   \n",
      "3  {'userId': 'admin', 'ipAddress': '55.228.182.8...        DELETE   \n",
      "4                                                NaN           NaN   \n",
      "\n",
      "     resourceType                                       resourcePath userId  \\\n",
      "0             NaN                                                NaN    NaN   \n",
      "1             NaN                                                NaN    NaN   \n",
      "2           users        userss/72a7a51b-ca33-47f7-bc6b-19ec0a869502    NaN   \n",
      "3  authentication  authentications/21b7edb0-cc2f-4eca-8e29-2835f1...    NaN   \n",
      "4             NaN                                                NaN    NaN   \n",
      "\n",
      "  sessionId  \n",
      "0       NaN  \n",
      "1       NaN  \n",
      "2       NaN  \n",
      "3       NaN  \n",
      "4       NaN  \n"
     ]
    }
   ],
   "source": [
    "data_train = pd.read_json(\"train_logs.json\", lines=False)\n",
    "data_test = pd.read_json(\"test_logs.json\", lines=False)\n",
    "data_val = pd.read_json(\"val_logs.json\", lines=False)\n",
    "print(data_test.head())"
   ]
  },
  {
   "cell_type": "markdown",
   "id": "1132d010",
   "metadata": {},
   "source": [
    "#### NaN-Werte bereinigen"
   ]
  },
  {
   "cell_type": "code",
   "execution_count": 4,
   "id": "321cb5aa",
   "metadata": {
    "execution": {
     "iopub.execute_input": "2025-06-18T11:28:07.235516Z",
     "iopub.status.busy": "2025-06-18T11:28:07.235408Z",
     "iopub.status.idle": "2025-06-18T11:28:07.546300Z",
     "shell.execute_reply": "2025-06-18T11:28:07.545915Z"
    }
   },
   "outputs": [],
   "source": [
    "X_train_full = pd.DataFrame(data_train)\n",
    "X_test_full = pd.DataFrame(data_test)\n",
    "X_val_full = pd.DataFrame(data_val)\n",
    "\n",
    "X_train_full = X_train_full.apply(lambda col: pd.to_numeric(col, errors='coerce')).fillna(0)\n",
    "X_test_full = X_test_full.apply(lambda col: pd.to_numeric(col, errors='coerce')).fillna(0)\n",
    "X_val_full = X_val_full.apply(lambda col: pd.to_numeric(col, errors='coerce')).fillna(0)\n",
    "\n",
    "y_test_full = data_test[\"label\"]"
   ]
  },
  {
   "cell_type": "markdown",
   "id": "24d90c1e",
   "metadata": {},
   "source": [
    "#### Logging"
   ]
  },
  {
   "cell_type": "code",
   "execution_count": null,
   "id": "ea8dd938",
   "metadata": {
    "execution": {
     "iopub.execute_input": "2025-06-18T11:28:07.548186Z",
     "iopub.status.busy": "2025-06-18T11:28:07.547816Z",
     "iopub.status.idle": "2025-06-18T11:28:07.549991Z",
     "shell.execute_reply": "2025-06-18T11:28:07.549854Z"
    }
   },
   "outputs": [
    {
     "name": "stderr",
     "output_type": "stream",
     "text": [
      "2025-07-16 15:05:31.339044: E external/local_xla/xla/stream_executor/cuda/cuda_platform.cc:51] failed call to cuInit: INTERNAL: CUDA error: Failed call to cuInit: CUDA_ERROR_NO_DEVICE: no CUDA-capable device is detected\n",
      "2025-07-16 15:05:31.339107: I external/local_xla/xla/stream_executor/cuda/cuda_diagnostics.cc:167] env: CUDA_VISIBLE_DEVICES=\"-1\"\n",
      "2025-07-16 15:05:31.339118: I external/local_xla/xla/stream_executor/cuda/cuda_diagnostics.cc:170] CUDA_VISIBLE_DEVICES is set to -1 - this hides all GPUs from CUDA\n",
      "2025-07-16 15:05:31.339125: I external/local_xla/xla/stream_executor/cuda/cuda_diagnostics.cc:178] verbose logging is disabled. Rerun with verbose logging (usually --v=1 or --vmodule=cuda_diagnostics=1) to get more diagnostic output from this module\n",
      "2025-07-16 15:05:31.339132: I external/local_xla/xla/stream_executor/cuda/cuda_diagnostics.cc:183] retrieving CUDA diagnostic information for host: Ueay-Ubuntu\n",
      "2025-07-16 15:05:31.339137: I external/local_xla/xla/stream_executor/cuda/cuda_diagnostics.cc:190] hostname: Ueay-Ubuntu\n",
      "2025-07-16 15:05:31.339726: I external/local_xla/xla/stream_executor/cuda/cuda_diagnostics.cc:197] libcuda reported version is: 470.256.2\n",
      "2025-07-16 15:05:31.339772: I external/local_xla/xla/stream_executor/cuda/cuda_diagnostics.cc:201] kernel reported version is: 470.256.2\n",
      "2025-07-16 15:05:31.339778: I external/local_xla/xla/stream_executor/cuda/cuda_diagnostics.cc:291] kernel version seems to match DSO: 470.256.2\n"
     ]
    }
   ],
   "source": [
    "logfile = open(\"output_log.txt\", \"w\")\n",
    "logging.basicConfig(stream=logfile, level=logging.INFO)\n",
    "\n",
    "sys.stdout = logfile\n",
    "sys.stderr = logfile\n",
    "\n",
    "print(\"Das ist eine Print-Ausgabe.\")\n",
    "logging.info(\"Das ist eine Log-Nachricht.\")"
   ]
  },
  {
   "cell_type": "markdown",
   "id": "5b904244",
   "metadata": {},
   "source": [
    "#### Automatisch alles in Numerische oder Kategorische Daten einteilen"
   ]
  },
  {
   "cell_type": "code",
   "execution_count": 6,
   "id": "aeaa7cd9",
   "metadata": {
    "execution": {
     "iopub.execute_input": "2025-06-18T11:28:07.551101Z",
     "iopub.status.busy": "2025-06-18T11:28:07.550823Z",
     "iopub.status.idle": "2025-06-18T11:28:07.556020Z",
     "shell.execute_reply": "2025-06-18T11:28:07.555865Z"
    }
   },
   "outputs": [],
   "source": [
    "def auto_encode_features(logs, one_hot_numeric=False, \n",
    "                         label_encoders=None, onehot_encoders=None, fit=True):\n",
    "    if logs is None or len(logs) == 0:\n",
    "        return [], {}, {}\n",
    "\n",
    "    if hasattr(logs, \"to_dict\"):\n",
    "        logs = logs.to_dict(orient='records')\n",
    "\n",
    "    if label_encoders is None:\n",
    "        label_encoders = {}\n",
    "    if onehot_encoders is None:\n",
    "        onehot_encoders = {}\n",
    "\n",
    "    sample = logs[0]\n",
    "    all_keys = sample.keys()\n",
    "    encoded_logs = []\n",
    "\n",
    "    for log in logs:\n",
    "        encoded = {}\n",
    "        for key in all_keys:\n",
    "            val = log.get(key)\n",
    "\n",
    "            if val is None:\n",
    "                continue\n",
    "\n",
    "            if isinstance(val, (int, float)) and not isinstance(val, bool):\n",
    "                if one_hot_numeric:\n",
    "                    if key not in onehot_encoders and fit:\n",
    "                        encoder = OneHotEncoder(sparse_output=False, handle_unknown='ignore')\n",
    "                        values = np.array([[l.get(key)] for l in logs if l.get(key) is not None])\n",
    "                        encoder.fit(values)\n",
    "                        onehot_encoders[key] = encoder\n",
    "\n",
    "                    if key in onehot_encoders:\n",
    "                        enc = onehot_encoders[key].transform([[val]])[0]\n",
    "                        for i, v in enumerate(enc):\n",
    "                            encoded[f\"{key}_{i}\"] = v\n",
    "                else:\n",
    "                    encoded[key] = val\n",
    "\n",
    "            elif isinstance(val, str):\n",
    "                if key not in label_encoders and fit:\n",
    "                    le = LabelEncoder()\n",
    "                    values = [l.get(key) for l in logs if l.get(key) is not None]\n",
    "                    le.fit(values)\n",
    "                    label_encoders[key] = le\n",
    "\n",
    "                if key in label_encoders:\n",
    "                    encoded[key] = label_encoders[key].transform([val])[0]\n",
    "\n",
    "            elif isinstance(val, list):\n",
    "                for i, item in enumerate(val):\n",
    "                    label = f\"{key}_{i}\"\n",
    "                    if label not in label_encoders and fit:\n",
    "                        le = LabelEncoder()\n",
    "                        values = [item for l in logs for item in l.get(key, [])]\n",
    "                        le.fit(values)\n",
    "                        label_encoders[label] = le\n",
    "\n",
    "                    if label in label_encoders:\n",
    "                        encoded[label] = label_encoders[label].transform([item])[0]\n",
    "        encoded_logs.append(encoded)\n",
    "\n",
    "    return encoded_logs, label_encoders, onehot_encoders\n"
   ]
  },
  {
   "cell_type": "markdown",
   "id": "ed3ff107",
   "metadata": {},
   "source": [
    "#### Werte aus vorheriger Funktion vereinigen"
   ]
  },
  {
   "cell_type": "code",
   "execution_count": 7,
   "id": "d4d0002f",
   "metadata": {
    "execution": {
     "iopub.execute_input": "2025-06-18T11:28:07.556889Z",
     "iopub.status.busy": "2025-06-18T11:28:07.556791Z",
     "iopub.status.idle": "2025-06-18T11:28:07.558609Z",
     "shell.execute_reply": "2025-06-18T11:28:07.558482Z"
    }
   },
   "outputs": [],
   "source": [
    "def dicts_to_feature_matrix(encoded_logs):\n",
    "    feature_names = sorted({key for d in encoded_logs for key in d.keys()})\n",
    "\n",
    "    X = np.zeros((len(encoded_logs), len(feature_names)), dtype=np.float32)\n",
    "\n",
    "    for i, d in enumerate(encoded_logs):\n",
    "        for j, feat in enumerate(feature_names):\n",
    "            if feat in d:\n",
    "                X[i, j] = d[feat]\n",
    "\n",
    "    return X, feature_names"
   ]
  },
  {
   "cell_type": "code",
   "execution_count": 8,
   "id": "8d825cad",
   "metadata": {
    "execution": {
     "iopub.execute_input": "2025-06-18T11:28:07.559523Z",
     "iopub.status.busy": "2025-06-18T11:28:07.559298Z",
     "iopub.status.idle": "2025-06-18T11:28:07.903265Z",
     "shell.execute_reply": "2025-06-18T11:28:07.903026Z"
    }
   },
   "outputs": [],
   "source": [
    "logs_train = X_train_full.to_dict(orient='records')\n",
    "logs_test = X_test_full.to_dict(orient='records')\n",
    "logs_val = X_val_full.to_dict(orient='records')\n",
    "\n",
    "encoded_logs, label_encoders, onehot_encoders = auto_encode_features(logs_train, \n",
    "                                                one_hot_numeric=False, fit=True)\n",
    "X_train, feature_names = dicts_to_feature_matrix(encoded_logs)\n",
    "\n",
    "encoded_test_logs, _, _ = auto_encode_features(logs_test, one_hot_numeric=False,\n",
    "                                               label_encoders=label_encoders, onehot_encoders=onehot_encoders, fit=False)\n",
    "X_test, _ = dicts_to_feature_matrix(encoded_test_logs)\n",
    "\n",
    "encoded_val_logs, _, _ = auto_encode_features(logs_val, one_hot_numeric=False,\n",
    "                                              label_encoders=label_encoders, onehot_encoders=onehot_encoders, fit=False)\n",
    "X_val, _ = dicts_to_feature_matrix(encoded_val_logs)"
   ]
  },
  {
   "cell_type": "markdown",
   "id": "56b55383",
   "metadata": {},
   "source": [
    "#### Skalierung"
   ]
  },
  {
   "cell_type": "code",
   "execution_count": 9,
   "id": "d3445ba7",
   "metadata": {
    "execution": {
     "iopub.execute_input": "2025-06-18T11:28:07.905432Z",
     "iopub.status.busy": "2025-06-18T11:28:07.905034Z",
     "iopub.status.idle": "2025-06-18T11:28:07.918353Z",
     "shell.execute_reply": "2025-06-18T11:28:07.918194Z"
    }
   },
   "outputs": [],
   "source": [
    "# Werte skalieren\n",
    "scaler = StandardScaler()\n",
    "\n",
    "X_train_scaled = scaler.fit_transform(X_train_full.to_numpy()).astype(np.float32)\n",
    "X_test_scaled = scaler.transform(X_test_full.reindex(columns=X_train_full.columns, fill_value=0).to_numpy()).astype(np.float32)\n",
    "X_val_scaled = scaler.transform(X_val_full.reindex(columns=X_train_full.columns, fill_value=0).to_numpy()).astype(np.float32)"
   ]
  },
  {
   "cell_type": "markdown",
   "id": "94f8c906",
   "metadata": {},
   "source": [
    "#### PCA zur Dimensionsreduktion"
   ]
  },
  {
   "cell_type": "code",
   "execution_count": 10,
   "id": "6fe69c33",
   "metadata": {
    "execution": {
     "iopub.execute_input": "2025-06-18T11:28:07.919628Z",
     "iopub.status.busy": "2025-06-18T11:28:07.919530Z",
     "iopub.status.idle": "2025-06-18T11:28:07.924894Z",
     "shell.execute_reply": "2025-06-18T11:28:07.924718Z"
    }
   },
   "outputs": [],
   "source": [
    "pca = PCA(n_components=10)\n",
    "X_train_pca = pca.fit_transform(X_train_scaled)\n",
    "X_test_pca = pca.transform(X_test_scaled)\n",
    "X_val_pca = pca.transform(X_val_scaled)"
   ]
  },
  {
   "cell_type": "markdown",
   "id": "d4f955d4",
   "metadata": {},
   "source": [
    "### Parameter"
   ]
  },
  {
   "cell_type": "code",
   "execution_count": 11,
   "id": "ad52d0ce",
   "metadata": {
    "execution": {
     "iopub.execute_input": "2025-06-18T11:28:07.926390Z",
     "iopub.status.busy": "2025-06-18T11:28:07.926270Z",
     "iopub.status.idle": "2025-06-18T11:28:07.927964Z",
     "shell.execute_reply": "2025-06-18T11:28:07.927832Z"
    }
   },
   "outputs": [],
   "source": [
    "seq_length = 32\n",
    "batch_size = 128\n",
    "\n",
    "encoder_layers = [1024, 512, 256]\n",
    "decoder_layers = [256, 512, 1024]\n",
    "\n",
    "dropout_rate = 0.2\n",
    "\n",
    "timesteps = seq_length\n",
    "n_features = X_train_pca.shape[1]\n",
    "learning_rate = 0.0001\n"
   ]
  },
  {
   "cell_type": "markdown",
   "id": "31049ba2",
   "metadata": {},
   "source": [
    "### Sequenzen"
   ]
  },
  {
   "cell_type": "code",
   "execution_count": 12,
   "id": "8b87923e",
   "metadata": {
    "execution": {
     "iopub.execute_input": "2025-06-18T11:28:07.928922Z",
     "iopub.status.busy": "2025-06-18T11:28:07.928809Z",
     "iopub.status.idle": "2025-06-18T11:28:07.932120Z",
     "shell.execute_reply": "2025-06-18T11:28:07.931956Z"
    }
   },
   "outputs": [],
   "source": [
    "# Generatoren bleiben gleich\n",
    "class SequenceToSequenceGenerator(tf.keras.utils.Sequence):\n",
    "    def __init__(self, data, seq_length, batch_size):\n",
    "        self.data = data\n",
    "        self.seq_length = seq_length\n",
    "        self.batch_size = batch_size\n",
    "        self.indices = np.arange(len(data) - seq_length)\n",
    "\n",
    "    def __len__(self):\n",
    "        return (len(self.indices) + self.batch_size - 1) // self.batch_size\n",
    "\n",
    "    def __getitem__(self, idx):\n",
    "        batch_idx = self.indices[idx * self.batch_size:(idx + 1) * self.batch_size]\n",
    "        if len(batch_idx) == 0:\n",
    "            batch_idx = self.indices[-self.batch_size:]\n",
    "        X_batch = np.array([self.data[i:i + self.seq_length] for i in batch_idx])\n",
    "        return X_batch, X_batch\n",
    "\n",
    "train_gen = SequenceToSequenceGenerator(X_train_pca, seq_length, batch_size)\n",
    "val_gen = SequenceToSequenceGenerator(X_val_pca, seq_length, batch_size)\n",
    "test_gen = SequenceToSequenceGenerator(X_test_pca, seq_length, batch_size)"
   ]
  },
  {
   "cell_type": "markdown",
   "id": "f33d7452",
   "metadata": {},
   "source": [
    "## 2. LSTM-AE implementieren"
   ]
  },
  {
   "cell_type": "code",
   "execution_count": 13,
   "id": "f8edbf86",
   "metadata": {
    "execution": {
     "iopub.execute_input": "2025-06-18T11:28:07.933020Z",
     "iopub.status.busy": "2025-06-18T11:28:07.932914Z",
     "iopub.status.idle": "2025-06-18T11:28:10.825146Z",
     "shell.execute_reply": "2025-06-18T11:28:10.824687Z"
    }
   },
   "outputs": [
    {
     "data": {
      "text/html": [
       "<pre style=\"white-space:pre;overflow-x:auto;line-height:normal;font-family:Menlo,'DejaVu Sans Mono',consolas,'Courier New',monospace\"><span style=\"font-weight: bold\">Model: \"functional\"</span>\n",
       "</pre>\n"
      ],
      "text/plain": [
       "\u001b[1mModel: \"functional\"\u001b[0m\n"
      ]
     },
     "metadata": {},
     "output_type": "display_data"
    },
    {
     "data": {
      "text/html": [
       "<pre style=\"white-space:pre;overflow-x:auto;line-height:normal;font-family:Menlo,'DejaVu Sans Mono',consolas,'Courier New',monospace\">┏━━━━━━━━━━━━━━━━━━━━━┳━━━━━━━━━━━━━━━━━━━┳━━━━━━━━━━━━┳━━━━━━━━━━━━━━━━━━━┓\n",
       "┃<span style=\"font-weight: bold\"> Layer (type)        </span>┃<span style=\"font-weight: bold\"> Output Shape      </span>┃<span style=\"font-weight: bold\">    Param # </span>┃<span style=\"font-weight: bold\"> Connected to      </span>┃\n",
       "┡━━━━━━━━━━━━━━━━━━━━━╇━━━━━━━━━━━━━━━━━━━╇━━━━━━━━━━━━╇━━━━━━━━━━━━━━━━━━━┩\n",
       "│ input_layer_1       │ (<span style=\"color: #00d7ff; text-decoration-color: #00d7ff\">None</span>, <span style=\"color: #00af00; text-decoration-color: #00af00\">32</span>, <span style=\"color: #00af00; text-decoration-color: #00af00\">10</span>)    │          <span style=\"color: #00af00; text-decoration-color: #00af00\">0</span> │ -                 │\n",
       "│ (<span style=\"color: #0087ff; text-decoration-color: #0087ff\">InputLayer</span>)        │                   │            │                   │\n",
       "├─────────────────────┼───────────────────┼────────────┼───────────────────┤\n",
       "│ lstm (<span style=\"color: #0087ff; text-decoration-color: #0087ff\">LSTM</span>)         │ (<span style=\"color: #00d7ff; text-decoration-color: #00d7ff\">None</span>, <span style=\"color: #00af00; text-decoration-color: #00af00\">32</span>, <span style=\"color: #00af00; text-decoration-color: #00af00\">1024</span>)  │  <span style=\"color: #00af00; text-decoration-color: #00af00\">4,239,360</span> │ input_layer_1[<span style=\"color: #00af00; text-decoration-color: #00af00\">0</span>]… │\n",
       "├─────────────────────┼───────────────────┼────────────┼───────────────────┤\n",
       "│ dropout (<span style=\"color: #0087ff; text-decoration-color: #0087ff\">Dropout</span>)   │ (<span style=\"color: #00d7ff; text-decoration-color: #00d7ff\">None</span>, <span style=\"color: #00af00; text-decoration-color: #00af00\">32</span>, <span style=\"color: #00af00; text-decoration-color: #00af00\">1024</span>)  │          <span style=\"color: #00af00; text-decoration-color: #00af00\">0</span> │ lstm[<span style=\"color: #00af00; text-decoration-color: #00af00\">0</span>][<span style=\"color: #00af00; text-decoration-color: #00af00\">0</span>]        │\n",
       "├─────────────────────┼───────────────────┼────────────┼───────────────────┤\n",
       "│ layer_normalization │ (<span style=\"color: #00d7ff; text-decoration-color: #00d7ff\">None</span>, <span style=\"color: #00af00; text-decoration-color: #00af00\">32</span>, <span style=\"color: #00af00; text-decoration-color: #00af00\">1024</span>)  │      <span style=\"color: #00af00; text-decoration-color: #00af00\">2,048</span> │ dropout[<span style=\"color: #00af00; text-decoration-color: #00af00\">0</span>][<span style=\"color: #00af00; text-decoration-color: #00af00\">0</span>]     │\n",
       "│ (<span style=\"color: #0087ff; text-decoration-color: #0087ff\">LayerNormalizatio…</span> │                   │            │                   │\n",
       "├─────────────────────┼───────────────────┼────────────┼───────────────────┤\n",
       "│ time_distributed    │ (<span style=\"color: #00d7ff; text-decoration-color: #00d7ff\">None</span>, <span style=\"color: #00af00; text-decoration-color: #00af00\">32</span>, <span style=\"color: #00af00; text-decoration-color: #00af00\">1024</span>)  │     <span style=\"color: #00af00; text-decoration-color: #00af00\">11,264</span> │ input_layer_1[<span style=\"color: #00af00; text-decoration-color: #00af00\">0</span>]… │\n",
       "│ (<span style=\"color: #0087ff; text-decoration-color: #0087ff\">TimeDistributed</span>)   │                   │            │                   │\n",
       "├─────────────────────┼───────────────────┼────────────┼───────────────────┤\n",
       "│ add (<span style=\"color: #0087ff; text-decoration-color: #0087ff\">Add</span>)           │ (<span style=\"color: #00d7ff; text-decoration-color: #00d7ff\">None</span>, <span style=\"color: #00af00; text-decoration-color: #00af00\">32</span>, <span style=\"color: #00af00; text-decoration-color: #00af00\">1024</span>)  │          <span style=\"color: #00af00; text-decoration-color: #00af00\">0</span> │ layer_normalizat… │\n",
       "│                     │                   │            │ time_distributed… │\n",
       "├─────────────────────┼───────────────────┼────────────┼───────────────────┤\n",
       "│ lstm_1 (<span style=\"color: #0087ff; text-decoration-color: #0087ff\">LSTM</span>)       │ (<span style=\"color: #00d7ff; text-decoration-color: #00d7ff\">None</span>, <span style=\"color: #00af00; text-decoration-color: #00af00\">32</span>, <span style=\"color: #00af00; text-decoration-color: #00af00\">512</span>)   │  <span style=\"color: #00af00; text-decoration-color: #00af00\">3,147,776</span> │ add[<span style=\"color: #00af00; text-decoration-color: #00af00\">0</span>][<span style=\"color: #00af00; text-decoration-color: #00af00\">0</span>]         │\n",
       "├─────────────────────┼───────────────────┼────────────┼───────────────────┤\n",
       "│ dropout_1 (<span style=\"color: #0087ff; text-decoration-color: #0087ff\">Dropout</span>) │ (<span style=\"color: #00d7ff; text-decoration-color: #00d7ff\">None</span>, <span style=\"color: #00af00; text-decoration-color: #00af00\">32</span>, <span style=\"color: #00af00; text-decoration-color: #00af00\">512</span>)   │          <span style=\"color: #00af00; text-decoration-color: #00af00\">0</span> │ lstm_1[<span style=\"color: #00af00; text-decoration-color: #00af00\">0</span>][<span style=\"color: #00af00; text-decoration-color: #00af00\">0</span>]      │\n",
       "├─────────────────────┼───────────────────┼────────────┼───────────────────┤\n",
       "│ layer_normalizatio… │ (<span style=\"color: #00d7ff; text-decoration-color: #00d7ff\">None</span>, <span style=\"color: #00af00; text-decoration-color: #00af00\">32</span>, <span style=\"color: #00af00; text-decoration-color: #00af00\">512</span>)   │      <span style=\"color: #00af00; text-decoration-color: #00af00\">1,024</span> │ dropout_1[<span style=\"color: #00af00; text-decoration-color: #00af00\">0</span>][<span style=\"color: #00af00; text-decoration-color: #00af00\">0</span>]   │\n",
       "│ (<span style=\"color: #0087ff; text-decoration-color: #0087ff\">LayerNormalizatio…</span> │                   │            │                   │\n",
       "├─────────────────────┼───────────────────┼────────────┼───────────────────┤\n",
       "│ time_distributed_1  │ (<span style=\"color: #00d7ff; text-decoration-color: #00d7ff\">None</span>, <span style=\"color: #00af00; text-decoration-color: #00af00\">32</span>, <span style=\"color: #00af00; text-decoration-color: #00af00\">512</span>)   │    <span style=\"color: #00af00; text-decoration-color: #00af00\">524,800</span> │ add[<span style=\"color: #00af00; text-decoration-color: #00af00\">0</span>][<span style=\"color: #00af00; text-decoration-color: #00af00\">0</span>]         │\n",
       "│ (<span style=\"color: #0087ff; text-decoration-color: #0087ff\">TimeDistributed</span>)   │                   │            │                   │\n",
       "├─────────────────────┼───────────────────┼────────────┼───────────────────┤\n",
       "│ add_1 (<span style=\"color: #0087ff; text-decoration-color: #0087ff\">Add</span>)         │ (<span style=\"color: #00d7ff; text-decoration-color: #00d7ff\">None</span>, <span style=\"color: #00af00; text-decoration-color: #00af00\">32</span>, <span style=\"color: #00af00; text-decoration-color: #00af00\">512</span>)   │          <span style=\"color: #00af00; text-decoration-color: #00af00\">0</span> │ layer_normalizat… │\n",
       "│                     │                   │            │ time_distributed… │\n",
       "├─────────────────────┼───────────────────┼────────────┼───────────────────┤\n",
       "│ lstm_2 (<span style=\"color: #0087ff; text-decoration-color: #0087ff\">LSTM</span>)       │ (<span style=\"color: #00d7ff; text-decoration-color: #00d7ff\">None</span>, <span style=\"color: #00af00; text-decoration-color: #00af00\">32</span>, <span style=\"color: #00af00; text-decoration-color: #00af00\">256</span>)   │    <span style=\"color: #00af00; text-decoration-color: #00af00\">787,456</span> │ add_1[<span style=\"color: #00af00; text-decoration-color: #00af00\">0</span>][<span style=\"color: #00af00; text-decoration-color: #00af00\">0</span>]       │\n",
       "├─────────────────────┼───────────────────┼────────────┼───────────────────┤\n",
       "│ dropout_2 (<span style=\"color: #0087ff; text-decoration-color: #0087ff\">Dropout</span>) │ (<span style=\"color: #00d7ff; text-decoration-color: #00d7ff\">None</span>, <span style=\"color: #00af00; text-decoration-color: #00af00\">32</span>, <span style=\"color: #00af00; text-decoration-color: #00af00\">256</span>)   │          <span style=\"color: #00af00; text-decoration-color: #00af00\">0</span> │ lstm_2[<span style=\"color: #00af00; text-decoration-color: #00af00\">0</span>][<span style=\"color: #00af00; text-decoration-color: #00af00\">0</span>]      │\n",
       "├─────────────────────┼───────────────────┼────────────┼───────────────────┤\n",
       "│ layer_normalizatio… │ (<span style=\"color: #00d7ff; text-decoration-color: #00d7ff\">None</span>, <span style=\"color: #00af00; text-decoration-color: #00af00\">32</span>, <span style=\"color: #00af00; text-decoration-color: #00af00\">256</span>)   │        <span style=\"color: #00af00; text-decoration-color: #00af00\">512</span> │ dropout_2[<span style=\"color: #00af00; text-decoration-color: #00af00\">0</span>][<span style=\"color: #00af00; text-decoration-color: #00af00\">0</span>]   │\n",
       "│ (<span style=\"color: #0087ff; text-decoration-color: #0087ff\">LayerNormalizatio…</span> │                   │            │                   │\n",
       "├─────────────────────┼───────────────────┼────────────┼───────────────────┤\n",
       "│ time_distributed_2  │ (<span style=\"color: #00d7ff; text-decoration-color: #00d7ff\">None</span>, <span style=\"color: #00af00; text-decoration-color: #00af00\">32</span>, <span style=\"color: #00af00; text-decoration-color: #00af00\">256</span>)   │    <span style=\"color: #00af00; text-decoration-color: #00af00\">131,328</span> │ add_1[<span style=\"color: #00af00; text-decoration-color: #00af00\">0</span>][<span style=\"color: #00af00; text-decoration-color: #00af00\">0</span>]       │\n",
       "│ (<span style=\"color: #0087ff; text-decoration-color: #0087ff\">TimeDistributed</span>)   │                   │            │                   │\n",
       "├─────────────────────┼───────────────────┼────────────┼───────────────────┤\n",
       "│ add_2 (<span style=\"color: #0087ff; text-decoration-color: #0087ff\">Add</span>)         │ (<span style=\"color: #00d7ff; text-decoration-color: #00d7ff\">None</span>, <span style=\"color: #00af00; text-decoration-color: #00af00\">32</span>, <span style=\"color: #00af00; text-decoration-color: #00af00\">256</span>)   │          <span style=\"color: #00af00; text-decoration-color: #00af00\">0</span> │ layer_normalizat… │\n",
       "│                     │                   │            │ time_distributed… │\n",
       "├─────────────────────┼───────────────────┼────────────┼───────────────────┤\n",
       "│ bidirectional       │ (<span style=\"color: #00d7ff; text-decoration-color: #00d7ff\">None</span>, <span style=\"color: #00af00; text-decoration-color: #00af00\">512</span>)       │  <span style=\"color: #00af00; text-decoration-color: #00af00\">1,050,624</span> │ add_2[<span style=\"color: #00af00; text-decoration-color: #00af00\">0</span>][<span style=\"color: #00af00; text-decoration-color: #00af00\">0</span>]       │\n",
       "│ (<span style=\"color: #0087ff; text-decoration-color: #0087ff\">Bidirectional</span>)     │                   │            │                   │\n",
       "├─────────────────────┼───────────────────┼────────────┼───────────────────┤\n",
       "│ repeat_vector       │ (<span style=\"color: #00d7ff; text-decoration-color: #00d7ff\">None</span>, <span style=\"color: #00af00; text-decoration-color: #00af00\">32</span>, <span style=\"color: #00af00; text-decoration-color: #00af00\">512</span>)   │          <span style=\"color: #00af00; text-decoration-color: #00af00\">0</span> │ bidirectional[<span style=\"color: #00af00; text-decoration-color: #00af00\">0</span>]… │\n",
       "│ (<span style=\"color: #0087ff; text-decoration-color: #0087ff\">RepeatVector</span>)      │                   │            │                   │\n",
       "├─────────────────────┼───────────────────┼────────────┼───────────────────┤\n",
       "│ lstm_4 (<span style=\"color: #0087ff; text-decoration-color: #0087ff\">LSTM</span>)       │ (<span style=\"color: #00d7ff; text-decoration-color: #00d7ff\">None</span>, <span style=\"color: #00af00; text-decoration-color: #00af00\">32</span>, <span style=\"color: #00af00; text-decoration-color: #00af00\">256</span>)   │    <span style=\"color: #00af00; text-decoration-color: #00af00\">787,456</span> │ repeat_vector[<span style=\"color: #00af00; text-decoration-color: #00af00\">0</span>]… │\n",
       "├─────────────────────┼───────────────────┼────────────┼───────────────────┤\n",
       "│ dropout_3 (<span style=\"color: #0087ff; text-decoration-color: #0087ff\">Dropout</span>) │ (<span style=\"color: #00d7ff; text-decoration-color: #00d7ff\">None</span>, <span style=\"color: #00af00; text-decoration-color: #00af00\">32</span>, <span style=\"color: #00af00; text-decoration-color: #00af00\">256</span>)   │          <span style=\"color: #00af00; text-decoration-color: #00af00\">0</span> │ lstm_4[<span style=\"color: #00af00; text-decoration-color: #00af00\">0</span>][<span style=\"color: #00af00; text-decoration-color: #00af00\">0</span>]      │\n",
       "├─────────────────────┼───────────────────┼────────────┼───────────────────┤\n",
       "│ layer_normalizatio… │ (<span style=\"color: #00d7ff; text-decoration-color: #00d7ff\">None</span>, <span style=\"color: #00af00; text-decoration-color: #00af00\">32</span>, <span style=\"color: #00af00; text-decoration-color: #00af00\">256</span>)   │        <span style=\"color: #00af00; text-decoration-color: #00af00\">512</span> │ dropout_3[<span style=\"color: #00af00; text-decoration-color: #00af00\">0</span>][<span style=\"color: #00af00; text-decoration-color: #00af00\">0</span>]   │\n",
       "│ (<span style=\"color: #0087ff; text-decoration-color: #0087ff\">LayerNormalizatio…</span> │                   │            │                   │\n",
       "├─────────────────────┼───────────────────┼────────────┼───────────────────┤\n",
       "│ lstm_5 (<span style=\"color: #0087ff; text-decoration-color: #0087ff\">LSTM</span>)       │ (<span style=\"color: #00d7ff; text-decoration-color: #00d7ff\">None</span>, <span style=\"color: #00af00; text-decoration-color: #00af00\">32</span>, <span style=\"color: #00af00; text-decoration-color: #00af00\">512</span>)   │  <span style=\"color: #00af00; text-decoration-color: #00af00\">1,574,912</span> │ layer_normalizat… │\n",
       "├─────────────────────┼───────────────────┼────────────┼───────────────────┤\n",
       "│ dropout_4 (<span style=\"color: #0087ff; text-decoration-color: #0087ff\">Dropout</span>) │ (<span style=\"color: #00d7ff; text-decoration-color: #00d7ff\">None</span>, <span style=\"color: #00af00; text-decoration-color: #00af00\">32</span>, <span style=\"color: #00af00; text-decoration-color: #00af00\">512</span>)   │          <span style=\"color: #00af00; text-decoration-color: #00af00\">0</span> │ lstm_5[<span style=\"color: #00af00; text-decoration-color: #00af00\">0</span>][<span style=\"color: #00af00; text-decoration-color: #00af00\">0</span>]      │\n",
       "├─────────────────────┼───────────────────┼────────────┼───────────────────┤\n",
       "│ layer_normalizatio… │ (<span style=\"color: #00d7ff; text-decoration-color: #00d7ff\">None</span>, <span style=\"color: #00af00; text-decoration-color: #00af00\">32</span>, <span style=\"color: #00af00; text-decoration-color: #00af00\">512</span>)   │      <span style=\"color: #00af00; text-decoration-color: #00af00\">1,024</span> │ dropout_4[<span style=\"color: #00af00; text-decoration-color: #00af00\">0</span>][<span style=\"color: #00af00; text-decoration-color: #00af00\">0</span>]   │\n",
       "│ (<span style=\"color: #0087ff; text-decoration-color: #0087ff\">LayerNormalizatio…</span> │                   │            │                   │\n",
       "├─────────────────────┼───────────────────┼────────────┼───────────────────┤\n",
       "│ lstm_6 (<span style=\"color: #0087ff; text-decoration-color: #0087ff\">LSTM</span>)       │ (<span style=\"color: #00d7ff; text-decoration-color: #00d7ff\">None</span>, <span style=\"color: #00af00; text-decoration-color: #00af00\">32</span>, <span style=\"color: #00af00; text-decoration-color: #00af00\">1024</span>)  │  <span style=\"color: #00af00; text-decoration-color: #00af00\">6,295,552</span> │ layer_normalizat… │\n",
       "├─────────────────────┼───────────────────┼────────────┼───────────────────┤\n",
       "│ dropout_5 (<span style=\"color: #0087ff; text-decoration-color: #0087ff\">Dropout</span>) │ (<span style=\"color: #00d7ff; text-decoration-color: #00d7ff\">None</span>, <span style=\"color: #00af00; text-decoration-color: #00af00\">32</span>, <span style=\"color: #00af00; text-decoration-color: #00af00\">1024</span>)  │          <span style=\"color: #00af00; text-decoration-color: #00af00\">0</span> │ lstm_6[<span style=\"color: #00af00; text-decoration-color: #00af00\">0</span>][<span style=\"color: #00af00; text-decoration-color: #00af00\">0</span>]      │\n",
       "├─────────────────────┼───────────────────┼────────────┼───────────────────┤\n",
       "│ layer_normalizatio… │ (<span style=\"color: #00d7ff; text-decoration-color: #00d7ff\">None</span>, <span style=\"color: #00af00; text-decoration-color: #00af00\">32</span>, <span style=\"color: #00af00; text-decoration-color: #00af00\">1024</span>)  │      <span style=\"color: #00af00; text-decoration-color: #00af00\">2,048</span> │ dropout_5[<span style=\"color: #00af00; text-decoration-color: #00af00\">0</span>][<span style=\"color: #00af00; text-decoration-color: #00af00\">0</span>]   │\n",
       "│ (<span style=\"color: #0087ff; text-decoration-color: #0087ff\">LayerNormalizatio…</span> │                   │            │                   │\n",
       "├─────────────────────┼───────────────────┼────────────┼───────────────────┤\n",
       "│ time_distributed_3  │ (<span style=\"color: #00d7ff; text-decoration-color: #00d7ff\">None</span>, <span style=\"color: #00af00; text-decoration-color: #00af00\">32</span>, <span style=\"color: #00af00; text-decoration-color: #00af00\">10</span>)    │     <span style=\"color: #00af00; text-decoration-color: #00af00\">10,250</span> │ layer_normalizat… │\n",
       "│ (<span style=\"color: #0087ff; text-decoration-color: #0087ff\">TimeDistributed</span>)   │                   │            │                   │\n",
       "└─────────────────────┴───────────────────┴────────────┴───────────────────┘\n",
       "</pre>\n"
      ],
      "text/plain": [
       "┏━━━━━━━━━━━━━━━━━━━━━┳━━━━━━━━━━━━━━━━━━━┳━━━━━━━━━━━━┳━━━━━━━━━━━━━━━━━━━┓\n",
       "┃\u001b[1m \u001b[0m\u001b[1mLayer (type)       \u001b[0m\u001b[1m \u001b[0m┃\u001b[1m \u001b[0m\u001b[1mOutput Shape     \u001b[0m\u001b[1m \u001b[0m┃\u001b[1m \u001b[0m\u001b[1m   Param #\u001b[0m\u001b[1m \u001b[0m┃\u001b[1m \u001b[0m\u001b[1mConnected to     \u001b[0m\u001b[1m \u001b[0m┃\n",
       "┡━━━━━━━━━━━━━━━━━━━━━╇━━━━━━━━━━━━━━━━━━━╇━━━━━━━━━━━━╇━━━━━━━━━━━━━━━━━━━┩\n",
       "│ input_layer_1       │ (\u001b[38;5;45mNone\u001b[0m, \u001b[38;5;34m32\u001b[0m, \u001b[38;5;34m10\u001b[0m)    │          \u001b[38;5;34m0\u001b[0m │ -                 │\n",
       "│ (\u001b[38;5;33mInputLayer\u001b[0m)        │                   │            │                   │\n",
       "├─────────────────────┼───────────────────┼────────────┼───────────────────┤\n",
       "│ lstm (\u001b[38;5;33mLSTM\u001b[0m)         │ (\u001b[38;5;45mNone\u001b[0m, \u001b[38;5;34m32\u001b[0m, \u001b[38;5;34m1024\u001b[0m)  │  \u001b[38;5;34m4,239,360\u001b[0m │ input_layer_1[\u001b[38;5;34m0\u001b[0m]… │\n",
       "├─────────────────────┼───────────────────┼────────────┼───────────────────┤\n",
       "│ dropout (\u001b[38;5;33mDropout\u001b[0m)   │ (\u001b[38;5;45mNone\u001b[0m, \u001b[38;5;34m32\u001b[0m, \u001b[38;5;34m1024\u001b[0m)  │          \u001b[38;5;34m0\u001b[0m │ lstm[\u001b[38;5;34m0\u001b[0m][\u001b[38;5;34m0\u001b[0m]        │\n",
       "├─────────────────────┼───────────────────┼────────────┼───────────────────┤\n",
       "│ layer_normalization │ (\u001b[38;5;45mNone\u001b[0m, \u001b[38;5;34m32\u001b[0m, \u001b[38;5;34m1024\u001b[0m)  │      \u001b[38;5;34m2,048\u001b[0m │ dropout[\u001b[38;5;34m0\u001b[0m][\u001b[38;5;34m0\u001b[0m]     │\n",
       "│ (\u001b[38;5;33mLayerNormalizatio…\u001b[0m │                   │            │                   │\n",
       "├─────────────────────┼───────────────────┼────────────┼───────────────────┤\n",
       "│ time_distributed    │ (\u001b[38;5;45mNone\u001b[0m, \u001b[38;5;34m32\u001b[0m, \u001b[38;5;34m1024\u001b[0m)  │     \u001b[38;5;34m11,264\u001b[0m │ input_layer_1[\u001b[38;5;34m0\u001b[0m]… │\n",
       "│ (\u001b[38;5;33mTimeDistributed\u001b[0m)   │                   │            │                   │\n",
       "├─────────────────────┼───────────────────┼────────────┼───────────────────┤\n",
       "│ add (\u001b[38;5;33mAdd\u001b[0m)           │ (\u001b[38;5;45mNone\u001b[0m, \u001b[38;5;34m32\u001b[0m, \u001b[38;5;34m1024\u001b[0m)  │          \u001b[38;5;34m0\u001b[0m │ layer_normalizat… │\n",
       "│                     │                   │            │ time_distributed… │\n",
       "├─────────────────────┼───────────────────┼────────────┼───────────────────┤\n",
       "│ lstm_1 (\u001b[38;5;33mLSTM\u001b[0m)       │ (\u001b[38;5;45mNone\u001b[0m, \u001b[38;5;34m32\u001b[0m, \u001b[38;5;34m512\u001b[0m)   │  \u001b[38;5;34m3,147,776\u001b[0m │ add[\u001b[38;5;34m0\u001b[0m][\u001b[38;5;34m0\u001b[0m]         │\n",
       "├─────────────────────┼───────────────────┼────────────┼───────────────────┤\n",
       "│ dropout_1 (\u001b[38;5;33mDropout\u001b[0m) │ (\u001b[38;5;45mNone\u001b[0m, \u001b[38;5;34m32\u001b[0m, \u001b[38;5;34m512\u001b[0m)   │          \u001b[38;5;34m0\u001b[0m │ lstm_1[\u001b[38;5;34m0\u001b[0m][\u001b[38;5;34m0\u001b[0m]      │\n",
       "├─────────────────────┼───────────────────┼────────────┼───────────────────┤\n",
       "│ layer_normalizatio… │ (\u001b[38;5;45mNone\u001b[0m, \u001b[38;5;34m32\u001b[0m, \u001b[38;5;34m512\u001b[0m)   │      \u001b[38;5;34m1,024\u001b[0m │ dropout_1[\u001b[38;5;34m0\u001b[0m][\u001b[38;5;34m0\u001b[0m]   │\n",
       "│ (\u001b[38;5;33mLayerNormalizatio…\u001b[0m │                   │            │                   │\n",
       "├─────────────────────┼───────────────────┼────────────┼───────────────────┤\n",
       "│ time_distributed_1  │ (\u001b[38;5;45mNone\u001b[0m, \u001b[38;5;34m32\u001b[0m, \u001b[38;5;34m512\u001b[0m)   │    \u001b[38;5;34m524,800\u001b[0m │ add[\u001b[38;5;34m0\u001b[0m][\u001b[38;5;34m0\u001b[0m]         │\n",
       "│ (\u001b[38;5;33mTimeDistributed\u001b[0m)   │                   │            │                   │\n",
       "├─────────────────────┼───────────────────┼────────────┼───────────────────┤\n",
       "│ add_1 (\u001b[38;5;33mAdd\u001b[0m)         │ (\u001b[38;5;45mNone\u001b[0m, \u001b[38;5;34m32\u001b[0m, \u001b[38;5;34m512\u001b[0m)   │          \u001b[38;5;34m0\u001b[0m │ layer_normalizat… │\n",
       "│                     │                   │            │ time_distributed… │\n",
       "├─────────────────────┼───────────────────┼────────────┼───────────────────┤\n",
       "│ lstm_2 (\u001b[38;5;33mLSTM\u001b[0m)       │ (\u001b[38;5;45mNone\u001b[0m, \u001b[38;5;34m32\u001b[0m, \u001b[38;5;34m256\u001b[0m)   │    \u001b[38;5;34m787,456\u001b[0m │ add_1[\u001b[38;5;34m0\u001b[0m][\u001b[38;5;34m0\u001b[0m]       │\n",
       "├─────────────────────┼───────────────────┼────────────┼───────────────────┤\n",
       "│ dropout_2 (\u001b[38;5;33mDropout\u001b[0m) │ (\u001b[38;5;45mNone\u001b[0m, \u001b[38;5;34m32\u001b[0m, \u001b[38;5;34m256\u001b[0m)   │          \u001b[38;5;34m0\u001b[0m │ lstm_2[\u001b[38;5;34m0\u001b[0m][\u001b[38;5;34m0\u001b[0m]      │\n",
       "├─────────────────────┼───────────────────┼────────────┼───────────────────┤\n",
       "│ layer_normalizatio… │ (\u001b[38;5;45mNone\u001b[0m, \u001b[38;5;34m32\u001b[0m, \u001b[38;5;34m256\u001b[0m)   │        \u001b[38;5;34m512\u001b[0m │ dropout_2[\u001b[38;5;34m0\u001b[0m][\u001b[38;5;34m0\u001b[0m]   │\n",
       "│ (\u001b[38;5;33mLayerNormalizatio…\u001b[0m │                   │            │                   │\n",
       "├─────────────────────┼───────────────────┼────────────┼───────────────────┤\n",
       "│ time_distributed_2  │ (\u001b[38;5;45mNone\u001b[0m, \u001b[38;5;34m32\u001b[0m, \u001b[38;5;34m256\u001b[0m)   │    \u001b[38;5;34m131,328\u001b[0m │ add_1[\u001b[38;5;34m0\u001b[0m][\u001b[38;5;34m0\u001b[0m]       │\n",
       "│ (\u001b[38;5;33mTimeDistributed\u001b[0m)   │                   │            │                   │\n",
       "├─────────────────────┼───────────────────┼────────────┼───────────────────┤\n",
       "│ add_2 (\u001b[38;5;33mAdd\u001b[0m)         │ (\u001b[38;5;45mNone\u001b[0m, \u001b[38;5;34m32\u001b[0m, \u001b[38;5;34m256\u001b[0m)   │          \u001b[38;5;34m0\u001b[0m │ layer_normalizat… │\n",
       "│                     │                   │            │ time_distributed… │\n",
       "├─────────────────────┼───────────────────┼────────────┼───────────────────┤\n",
       "│ bidirectional       │ (\u001b[38;5;45mNone\u001b[0m, \u001b[38;5;34m512\u001b[0m)       │  \u001b[38;5;34m1,050,624\u001b[0m │ add_2[\u001b[38;5;34m0\u001b[0m][\u001b[38;5;34m0\u001b[0m]       │\n",
       "│ (\u001b[38;5;33mBidirectional\u001b[0m)     │                   │            │                   │\n",
       "├─────────────────────┼───────────────────┼────────────┼───────────────────┤\n",
       "│ repeat_vector       │ (\u001b[38;5;45mNone\u001b[0m, \u001b[38;5;34m32\u001b[0m, \u001b[38;5;34m512\u001b[0m)   │          \u001b[38;5;34m0\u001b[0m │ bidirectional[\u001b[38;5;34m0\u001b[0m]… │\n",
       "│ (\u001b[38;5;33mRepeatVector\u001b[0m)      │                   │            │                   │\n",
       "├─────────────────────┼───────────────────┼────────────┼───────────────────┤\n",
       "│ lstm_4 (\u001b[38;5;33mLSTM\u001b[0m)       │ (\u001b[38;5;45mNone\u001b[0m, \u001b[38;5;34m32\u001b[0m, \u001b[38;5;34m256\u001b[0m)   │    \u001b[38;5;34m787,456\u001b[0m │ repeat_vector[\u001b[38;5;34m0\u001b[0m]… │\n",
       "├─────────────────────┼───────────────────┼────────────┼───────────────────┤\n",
       "│ dropout_3 (\u001b[38;5;33mDropout\u001b[0m) │ (\u001b[38;5;45mNone\u001b[0m, \u001b[38;5;34m32\u001b[0m, \u001b[38;5;34m256\u001b[0m)   │          \u001b[38;5;34m0\u001b[0m │ lstm_4[\u001b[38;5;34m0\u001b[0m][\u001b[38;5;34m0\u001b[0m]      │\n",
       "├─────────────────────┼───────────────────┼────────────┼───────────────────┤\n",
       "│ layer_normalizatio… │ (\u001b[38;5;45mNone\u001b[0m, \u001b[38;5;34m32\u001b[0m, \u001b[38;5;34m256\u001b[0m)   │        \u001b[38;5;34m512\u001b[0m │ dropout_3[\u001b[38;5;34m0\u001b[0m][\u001b[38;5;34m0\u001b[0m]   │\n",
       "│ (\u001b[38;5;33mLayerNormalizatio…\u001b[0m │                   │            │                   │\n",
       "├─────────────────────┼───────────────────┼────────────┼───────────────────┤\n",
       "│ lstm_5 (\u001b[38;5;33mLSTM\u001b[0m)       │ (\u001b[38;5;45mNone\u001b[0m, \u001b[38;5;34m32\u001b[0m, \u001b[38;5;34m512\u001b[0m)   │  \u001b[38;5;34m1,574,912\u001b[0m │ layer_normalizat… │\n",
       "├─────────────────────┼───────────────────┼────────────┼───────────────────┤\n",
       "│ dropout_4 (\u001b[38;5;33mDropout\u001b[0m) │ (\u001b[38;5;45mNone\u001b[0m, \u001b[38;5;34m32\u001b[0m, \u001b[38;5;34m512\u001b[0m)   │          \u001b[38;5;34m0\u001b[0m │ lstm_5[\u001b[38;5;34m0\u001b[0m][\u001b[38;5;34m0\u001b[0m]      │\n",
       "├─────────────────────┼───────────────────┼────────────┼───────────────────┤\n",
       "│ layer_normalizatio… │ (\u001b[38;5;45mNone\u001b[0m, \u001b[38;5;34m32\u001b[0m, \u001b[38;5;34m512\u001b[0m)   │      \u001b[38;5;34m1,024\u001b[0m │ dropout_4[\u001b[38;5;34m0\u001b[0m][\u001b[38;5;34m0\u001b[0m]   │\n",
       "│ (\u001b[38;5;33mLayerNormalizatio…\u001b[0m │                   │            │                   │\n",
       "├─────────────────────┼───────────────────┼────────────┼───────────────────┤\n",
       "│ lstm_6 (\u001b[38;5;33mLSTM\u001b[0m)       │ (\u001b[38;5;45mNone\u001b[0m, \u001b[38;5;34m32\u001b[0m, \u001b[38;5;34m1024\u001b[0m)  │  \u001b[38;5;34m6,295,552\u001b[0m │ layer_normalizat… │\n",
       "├─────────────────────┼───────────────────┼────────────┼───────────────────┤\n",
       "│ dropout_5 (\u001b[38;5;33mDropout\u001b[0m) │ (\u001b[38;5;45mNone\u001b[0m, \u001b[38;5;34m32\u001b[0m, \u001b[38;5;34m1024\u001b[0m)  │          \u001b[38;5;34m0\u001b[0m │ lstm_6[\u001b[38;5;34m0\u001b[0m][\u001b[38;5;34m0\u001b[0m]      │\n",
       "├─────────────────────┼───────────────────┼────────────┼───────────────────┤\n",
       "│ layer_normalizatio… │ (\u001b[38;5;45mNone\u001b[0m, \u001b[38;5;34m32\u001b[0m, \u001b[38;5;34m1024\u001b[0m)  │      \u001b[38;5;34m2,048\u001b[0m │ dropout_5[\u001b[38;5;34m0\u001b[0m][\u001b[38;5;34m0\u001b[0m]   │\n",
       "│ (\u001b[38;5;33mLayerNormalizatio…\u001b[0m │                   │            │                   │\n",
       "├─────────────────────┼───────────────────┼────────────┼───────────────────┤\n",
       "│ time_distributed_3  │ (\u001b[38;5;45mNone\u001b[0m, \u001b[38;5;34m32\u001b[0m, \u001b[38;5;34m10\u001b[0m)    │     \u001b[38;5;34m10,250\u001b[0m │ layer_normalizat… │\n",
       "│ (\u001b[38;5;33mTimeDistributed\u001b[0m)   │                   │            │                   │\n",
       "└─────────────────────┴───────────────────┴────────────┴───────────────────┘\n"
      ]
     },
     "metadata": {},
     "output_type": "display_data"
    },
    {
     "data": {
      "text/html": [
       "<pre style=\"white-space:pre;overflow-x:auto;line-height:normal;font-family:Menlo,'DejaVu Sans Mono',consolas,'Courier New',monospace\"><span style=\"font-weight: bold\"> Total params: </span><span style=\"color: #00af00; text-decoration-color: #00af00\">18,567,946</span> (70.83 MB)\n",
       "</pre>\n"
      ],
      "text/plain": [
       "\u001b[1m Total params: \u001b[0m\u001b[38;5;34m18,567,946\u001b[0m (70.83 MB)\n"
      ]
     },
     "metadata": {},
     "output_type": "display_data"
    },
    {
     "data": {
      "text/html": [
       "<pre style=\"white-space:pre;overflow-x:auto;line-height:normal;font-family:Menlo,'DejaVu Sans Mono',consolas,'Courier New',monospace\"><span style=\"font-weight: bold\"> Trainable params: </span><span style=\"color: #00af00; text-decoration-color: #00af00\">18,567,946</span> (70.83 MB)\n",
       "</pre>\n"
      ],
      "text/plain": [
       "\u001b[1m Trainable params: \u001b[0m\u001b[38;5;34m18,567,946\u001b[0m (70.83 MB)\n"
      ]
     },
     "metadata": {},
     "output_type": "display_data"
    },
    {
     "data": {
      "text/html": [
       "<pre style=\"white-space:pre;overflow-x:auto;line-height:normal;font-family:Menlo,'DejaVu Sans Mono',consolas,'Courier New',monospace\"><span style=\"font-weight: bold\"> Non-trainable params: </span><span style=\"color: #00af00; text-decoration-color: #00af00\">0</span> (0.00 B)\n",
       "</pre>\n"
      ],
      "text/plain": [
       "\u001b[1m Non-trainable params: \u001b[0m\u001b[38;5;34m0\u001b[0m (0.00 B)\n"
      ]
     },
     "metadata": {},
     "output_type": "display_data"
    }
   ],
   "source": [
    "from tensorflow.keras import backend as K\n",
    "\n",
    "inputs = Input(shape=(timesteps, n_features))\n",
    "x = inputs\n",
    "\n",
    "def residual_lstm_block(x, units, dropout_rate=0.2):\n",
    "    shortcut = x\n",
    "    x = LSTM(units, return_sequences=True)(x)\n",
    "    x = Dropout(dropout_rate)(x)\n",
    "    x = LayerNormalization()(x)\n",
    "\n",
    "    print(\"Shape x:\", K.int_shape(x))\n",
    "    print(\"Shape shortcut:\", K.int_shape(shortcut))\n",
    "    \n",
    "    if K.int_shape(shortcut)[-1] != units:\n",
    "        shortcut = TimeDistributed(Dense(units))(shortcut)\n",
    "        print(\"Shortcut after Dense:\", K.int_shape(shortcut))\n",
    "    \n",
    "    x = Add()([x, shortcut])\n",
    "    return x\n",
    "\n",
    "inputs = Input(shape=(timesteps, n_features))\n",
    "x = inputs\n",
    "\n",
    "for units in encoder_layers:\n",
    "    x = residual_lstm_block(x, units, dropout_rate=dropout_rate)\n",
    "\n",
    "encoded = Bidirectional(LSTM(encoder_layers[-1]))(x)\n",
    "print(\"Encoded shape:\", K.int_shape(encoded))  # (None, units*2)\n",
    "\n",
    "decoded = RepeatVector(timesteps)(encoded)\n",
    "print(\"Decoded shape:\", K.int_shape(decoded))  # (None, timesteps, units*2)\n",
    "\n",
    "x = decoded\n",
    "for units in decoder_layers:\n",
    "    x = LSTM(units, return_sequences=True)(x)\n",
    "    x = Dropout(dropout_rate)(x)\n",
    "    x = LayerNormalization()(x)\n",
    "    print(\"Decoder layer output shape:\", K.int_shape(x))\n",
    "\n",
    "outputs = TimeDistributed(Dense(n_features, activation='linear'))(x)\n",
    "\n",
    "model = Model(inputs, outputs)\n",
    "model.compile(optimizer=Adam(learning_rate), loss='mse')\n",
    "model.summary()"
   ]
  },
  {
   "cell_type": "code",
   "execution_count": null,
   "id": "b747efe5",
   "metadata": {
    "execution": {
     "iopub.execute_input": "2025-06-18T11:28:10.827160Z",
     "iopub.status.busy": "2025-06-18T11:28:10.826953Z",
     "iopub.status.idle": "2025-06-18T13:00:30.638536Z",
     "shell.execute_reply": "2025-06-18T13:00:30.638027Z"
    }
   },
   "outputs": [],
   "source": [
    "early_stop = EarlyStopping(monitor='val_loss', patience=5, restore_best_weights=True)\n",
    "model.fit(train_gen, validation_data=val_gen, epochs=10, callbacks=[early_stop])"
   ]
  },
  {
   "cell_type": "markdown",
   "id": "1d5ebaae",
   "metadata": {},
   "source": [
    "### Umwandlung der Daten für nächste Modelle: Rekonstruktionsfehler berechnen"
   ]
  },
  {
   "cell_type": "code",
   "execution_count": null,
   "id": "81ede0b3",
   "metadata": {
    "execution": {
     "iopub.execute_input": "2025-06-18T13:00:30.641866Z",
     "iopub.status.busy": "2025-06-18T13:00:30.641583Z",
     "iopub.status.idle": "2025-06-18T13:04:46.676977Z",
     "shell.execute_reply": "2025-06-18T13:04:46.676430Z"
    }
   },
   "outputs": [],
   "source": [
    "def get_reconstruction_errors(gen, model):\n",
    "    errors = []\n",
    "    for i in range(len(gen)):\n",
    "        X_batch, _ = gen[i]\n",
    "        pred = model.predict(X_batch, verbose=0)\n",
    "        batch_errors = np.mean(np.square(X_batch - pred), axis=(1, 2))\n",
    "        errors.extend(batch_errors)\n",
    "    return np.array(errors)\n",
    "\n",
    "train_errors = get_reconstruction_errors(train_gen, model)\n",
    "reconstruction_errors = get_reconstruction_errors(test_gen, model)\n",
    "threshold = np.percentile(train_errors, 95)\n",
    "\n",
    "y_test_seq = np.array([y_test_full[i + seq_length - 1] for i in range(len(reconstruction_errors))])\n",
    "true_labels = y_test_seq.astype(int)\n",
    "fpr, tpr, thresholds = roc_curve(true_labels, reconstruction_errors)\n",
    "optimal_idx = (tpr - fpr).argmax()\n",
    "optimal_threshold = thresholds[optimal_idx]\n",
    "\n",
    "y_pred = (reconstruction_errors > optimal_threshold).astype(int)\n",
    "\n",
    "precision, recall, f1, _ = precision_recall_fscore_support(true_labels, y_pred, average='binary')\n",
    "roc_auc = roc_auc_score(true_labels, reconstruction_errors)\n",
    "logging.info(f\"Precision: {precision:.3f}, Recall: {recall:.3f}, F1-Score: {f1:.3f}, ROC-AUC: {roc_auc:.3f}\")"
   ]
  },
  {
   "cell_type": "code",
   "execution_count": null,
   "id": "00451659",
   "metadata": {
    "execution": {
     "iopub.execute_input": "2025-06-18T13:04:46.679382Z",
     "iopub.status.busy": "2025-06-18T13:04:46.679111Z",
     "iopub.status.idle": "2025-06-18T13:05:07.159662Z",
     "shell.execute_reply": "2025-06-18T13:05:07.159250Z"
    }
   },
   "outputs": [],
   "source": [
    "# Encoder-Model bauen\n",
    "encoder = tf.keras.Model(inputs, encoded)\n",
    "\n",
    "# Batchweise encodieren, um RAM zu sparen\n",
    "X_encoded_batches = []\n",
    "for i in range(len(test_gen)):\n",
    "    X_batch, _ = test_gen[i]\n",
    "    encoded_batch = encoder.predict(X_batch, batch_size=len(X_batch), verbose=0)\n",
    "    X_encoded_batches.append(encoded_batch)\n",
    "X_encoded_new = np.vstack(X_encoded_batches)\n",
    "\n",
    "scaler_enc = StandardScaler()\n",
    "X_encoded_scaled = scaler_enc.fit_transform(X_encoded_new)\n",
    "X_encoded_scaled = X_encoded_scaled[-len(reconstruction_errors):]\n",
    "\n",
    "scaler_err = StandardScaler()\n",
    "reconstruction_errors_reshaped = reconstruction_errors.reshape(-1, 1)\n",
    "reconstruction_errors_scaled = scaler_err.fit_transform(reconstruction_errors_reshaped)\n",
    "hybrid_features = np.hstack((X_encoded_scaled, reconstruction_errors_scaled))"
   ]
  },
  {
   "cell_type": "code",
   "execution_count": null,
   "id": "fe4288f1",
   "metadata": {
    "execution": {
     "iopub.execute_input": "2025-06-18T13:05:07.162306Z",
     "iopub.status.busy": "2025-06-18T13:05:07.161851Z",
     "iopub.status.idle": "2025-06-18T13:05:07.181612Z",
     "shell.execute_reply": "2025-06-18T13:05:07.181342Z"
    }
   },
   "outputs": [],
   "source": [
    "X_temp, X_test, y_temp, y_test = train_test_split(\n",
    "    hybrid_features,\n",
    "    true_labels,\n",
    "    test_size=0.2,\n",
    "    random_state=42,\n",
    "    stratify=true_labels\n",
    ")\n",
    "\n",
    "# Dann: 12.5 % von 80 % ergibt 10 % des gesamten Datensatzes für Validation\n",
    "X_train, X_val, y_train, y_val = train_test_split(\n",
    "    X_temp,\n",
    "    y_temp,\n",
    "    test_size=0.125,  # 0.125 * 0.8 ≈ 0.10 vom Gesamtdatensatz\n",
    "    random_state=42,\n",
    "    stratify=y_temp\n",
    ")"
   ]
  },
  {
   "cell_type": "markdown",
   "id": "b1734c09",
   "metadata": {},
   "source": [
    "# Modell 1"
   ]
  },
  {
   "cell_type": "markdown",
   "id": "2f2c9f11",
   "metadata": {},
   "source": [
    "## Isolation Forest"
   ]
  },
  {
   "cell_type": "code",
   "execution_count": null,
   "id": "d6c7b6a7",
   "metadata": {
    "execution": {
     "iopub.execute_input": "2025-06-18T13:05:07.183274Z",
     "iopub.status.busy": "2025-06-18T13:05:07.183170Z",
     "iopub.status.idle": "2025-06-18T13:05:07.268242Z",
     "shell.execute_reply": "2025-06-18T13:05:07.268055Z"
    }
   },
   "outputs": [],
   "source": [
    "# Trainiere nur auf Trainingsdaten\n",
    "iforest = IsolationForest(random_state=42)\n",
    "#iforest.fit(X_train)\n",
    "\n",
    "# Vorhersage auf VALIDIERUNGSDATEN\n",
    "val_preds = iforest.fit_predict(X_val)\n",
    "val_anomaly = (val_preds == -1).astype(int)\n",
    "\n",
    "report_iforest = classification_report(y_val, val_anomaly)\n",
    "logging.info(\"Isolation Forest - Validation Report:\\n\" + report_iforest)"
   ]
  },
  {
   "cell_type": "markdown",
   "id": "34fa46b4",
   "metadata": {},
   "source": [
    "### IF MCC"
   ]
  },
  {
   "cell_type": "code",
   "execution_count": null,
   "id": "cec9af7f",
   "metadata": {
    "execution": {
     "iopub.execute_input": "2025-06-18T13:05:07.269604Z",
     "iopub.status.busy": "2025-06-18T13:05:07.269509Z",
     "iopub.status.idle": "2025-06-18T13:05:07.272764Z",
     "shell.execute_reply": "2025-06-18T13:05:07.272594Z"
    }
   },
   "outputs": [],
   "source": [
    "mcc = matthews_corrcoef(y_val, val_anomaly)\n",
    "logging.info(\"Matthews Correlation Coefficient: %f\", mcc)"
   ]
  },
  {
   "cell_type": "markdown",
   "id": "71c30aad",
   "metadata": {},
   "source": [
    "### IF Balanced Accuracy"
   ]
  },
  {
   "cell_type": "code",
   "execution_count": null,
   "id": "c822d8a9",
   "metadata": {
    "execution": {
     "iopub.execute_input": "2025-06-18T13:05:07.273666Z",
     "iopub.status.busy": "2025-06-18T13:05:07.273567Z",
     "iopub.status.idle": "2025-06-18T13:05:07.275782Z",
     "shell.execute_reply": "2025-06-18T13:05:07.275617Z"
    }
   },
   "outputs": [],
   "source": [
    "balanced_acc = balanced_accuracy_score(y_val, val_anomaly)\n",
    "logging.info(\"Balanced Accuracy: %f\", balanced_acc)"
   ]
  },
  {
   "cell_type": "markdown",
   "id": "e136e11a",
   "metadata": {},
   "source": [
    "### IF AUC-Kurven"
   ]
  },
  {
   "cell_type": "code",
   "execution_count": null,
   "id": "8e29c7ab",
   "metadata": {
    "execution": {
     "iopub.execute_input": "2025-06-18T13:05:07.276663Z",
     "iopub.status.busy": "2025-06-18T13:05:07.276571Z",
     "iopub.status.idle": "2025-06-18T13:05:07.441630Z",
     "shell.execute_reply": "2025-06-18T13:05:07.441465Z"
    }
   },
   "outputs": [],
   "source": [
    "from sklearn.metrics import roc_curve, roc_auc_score, precision_recall_curve, average_precision_score\n",
    "import matplotlib.pyplot as plt\n",
    "\n",
    "# Entscheidungsscores holen (höher = normal → invertieren für Anomalie)\n",
    "val_scores = -iforest.decision_function(X_val)\n",
    "\n",
    "# ROC-Kurve und AUC\n",
    "fpr, tpr, _ = roc_curve(y_val, val_scores)\n",
    "roc_auc = roc_auc_score(y_val, val_scores)\n",
    "\n",
    "# PR-Kurve und Average Precision\n",
    "precision, recall, _ = precision_recall_curve(y_val, val_scores)\n",
    "pr_auc = average_precision_score(y_val, val_scores)\n",
    "\n",
    "# Plotten\n",
    "plt.figure(figsize=(12, 5))\n",
    "\n",
    "# ROC\n",
    "plt.subplot(1, 2, 1)\n",
    "plt.plot(fpr, tpr, label=f\"AUC = {roc_auc:.3f}\")\n",
    "plt.plot([0, 1], [0, 1], linestyle=\"--\", color=\"gray\")\n",
    "plt.xlabel(\"False Positive Rate\")\n",
    "plt.ylabel(\"True Positive Rate\")\n",
    "plt.title(\"ROC Curve (Validation)\")\n",
    "plt.legend()\n",
    "\n",
    "# PR\n",
    "plt.subplot(1, 2, 2)\n",
    "plt.plot(recall, precision, label=f\"AP = {pr_auc:.3f}\")\n",
    "plt.xlabel(\"Recall\")\n",
    "plt.ylabel(\"Precision\")\n",
    "plt.title(\"Precision-Recall Curve (Validation)\")\n",
    "plt.legend()\n",
    "\n",
    "plt.tight_layout()\n",
    "plt.show()\n"
   ]
  },
  {
   "cell_type": "markdown",
   "id": "56c707ea",
   "metadata": {},
   "source": [
    "### IF: Anomaly Scores berechnen"
   ]
  },
  {
   "cell_type": "code",
   "execution_count": null,
   "id": "add85360",
   "metadata": {
    "execution": {
     "iopub.execute_input": "2025-06-18T13:05:07.443113Z",
     "iopub.status.busy": "2025-06-18T13:05:07.443019Z",
     "iopub.status.idle": "2025-06-18T13:05:07.486329Z",
     "shell.execute_reply": "2025-06-18T13:05:07.486152Z"
    }
   },
   "outputs": [],
   "source": [
    "scores = iforest.decision_function(hybrid_features)\n",
    "print(\"Scores:\", scores[:10])"
   ]
  },
  {
   "cell_type": "markdown",
   "id": "142607f1",
   "metadata": {},
   "source": [
    "# Modell 2"
   ]
  },
  {
   "cell_type": "markdown",
   "id": "2c53e25c",
   "metadata": {},
   "source": [
    "## One-Class SVM"
   ]
  },
  {
   "cell_type": "code",
   "execution_count": null,
   "id": "a9085760",
   "metadata": {
    "execution": {
     "iopub.execute_input": "2025-06-18T13:05:07.487675Z",
     "iopub.status.busy": "2025-06-18T13:05:07.487579Z",
     "iopub.status.idle": "2025-06-18T13:05:07.534534Z",
     "shell.execute_reply": "2025-06-18T13:05:07.534365Z"
    }
   },
   "outputs": [],
   "source": [
    "# Training\n",
    "ocsvm = OneClassSVM(kernel=\"rbf\", gamma='auto', nu=0.05)  # nu ~ erwarteter Anteil Anomalien\n",
    "#ocsvm.fit(X_train)\n",
    "\n",
    "val_preds = ocsvm.fit_predict(X_val)\n",
    "val_anomaly = (val_preds == -1).astype(int)\n",
    "\n",
    "report_ocsvm = classification_report(y_val, val_anomaly)\n",
    "logging.info(\"One-Class SVM - Validation Report:\\n\" + report_ocsvm)"
   ]
  },
  {
   "cell_type": "markdown",
   "id": "296736bf",
   "metadata": {},
   "source": [
    "### OCSVM MCC"
   ]
  },
  {
   "cell_type": "code",
   "execution_count": null,
   "id": "807a8958",
   "metadata": {
    "execution": {
     "iopub.execute_input": "2025-06-18T13:05:07.536056Z",
     "iopub.status.busy": "2025-06-18T13:05:07.535927Z",
     "iopub.status.idle": "2025-06-18T13:05:07.538707Z",
     "shell.execute_reply": "2025-06-18T13:05:07.538537Z"
    }
   },
   "outputs": [],
   "source": [
    "mcc = matthews_corrcoef(y_val, val_anomaly)\n",
    "logging.info(\"Matthews Correlation Coefficient: %f\", mcc)"
   ]
  },
  {
   "cell_type": "markdown",
   "id": "f8df4624",
   "metadata": {},
   "source": [
    "### OCSVM Balanced Accuracy"
   ]
  },
  {
   "cell_type": "code",
   "execution_count": null,
   "id": "03f42ef3",
   "metadata": {
    "execution": {
     "iopub.execute_input": "2025-06-18T13:05:07.539599Z",
     "iopub.status.busy": "2025-06-18T13:05:07.539502Z",
     "iopub.status.idle": "2025-06-18T13:05:07.541656Z",
     "shell.execute_reply": "2025-06-18T13:05:07.541494Z"
    }
   },
   "outputs": [],
   "source": [
    "balanced_acc = balanced_accuracy_score(y_val, val_anomaly)\n",
    "logging.info(\"Balanced Accuracy: %f\", balanced_acc)"
   ]
  },
  {
   "cell_type": "markdown",
   "id": "e80340a9",
   "metadata": {},
   "source": [
    "### OCSVM AUC-Kurven"
   ]
  },
  {
   "cell_type": "code",
   "execution_count": null,
   "id": "2c8b1fc2",
   "metadata": {
    "execution": {
     "iopub.execute_input": "2025-06-18T13:05:07.542510Z",
     "iopub.status.busy": "2025-06-18T13:05:07.542418Z",
     "iopub.status.idle": "2025-06-18T13:05:07.693736Z",
     "shell.execute_reply": "2025-06-18T13:05:07.693578Z"
    }
   },
   "outputs": [],
   "source": [
    "from sklearn.metrics import roc_curve, roc_auc_score, precision_recall_curve, average_precision_score\n",
    "import matplotlib.pyplot as plt\n",
    "\n",
    "# Anomalie-Scores holen (höher = normal, deshalb invertieren)\n",
    "val_scores = -ocsvm.decision_function(X_val)\n",
    "\n",
    "# ROC-Kurve und AUC\n",
    "fpr, tpr, _ = roc_curve(y_val, val_scores)\n",
    "roc_auc = roc_auc_score(y_val, val_scores)\n",
    "\n",
    "# Precision-Recall-Kurve und Average Precision\n",
    "precision, recall, _ = precision_recall_curve(y_val, val_scores)\n",
    "pr_auc = average_precision_score(y_val, val_scores)\n",
    "\n",
    "# Plotten\n",
    "plt.figure(figsize=(12, 5))\n",
    "\n",
    "# ROC Curve\n",
    "plt.subplot(1, 2, 1)\n",
    "plt.plot(fpr, tpr, label=f\"AUC = {roc_auc:.3f}\")\n",
    "plt.plot([0, 1], [0, 1], linestyle=\"--\", color=\"gray\")\n",
    "plt.xlabel(\"False Positive Rate\")\n",
    "plt.ylabel(\"True Positive Rate\")\n",
    "plt.title(\"ROC Curve (Validation)\")\n",
    "plt.legend()\n",
    "\n",
    "# PR Curve\n",
    "plt.subplot(1, 2, 2)\n",
    "plt.plot(recall, precision, label=f\"AP = {pr_auc:.3f}\")\n",
    "plt.xlabel(\"Recall\")\n",
    "plt.ylabel(\"Precision\")\n",
    "plt.title(\"Precision-Recall Curve (Validation)\")\n",
    "plt.legend()\n",
    "\n",
    "plt.tight_layout()\n",
    "plt.show()\n"
   ]
  },
  {
   "cell_type": "markdown",
   "id": "98c764e2",
   "metadata": {},
   "source": [
    "### OCSVM: Anomaly-Scores berechnen"
   ]
  },
  {
   "cell_type": "code",
   "execution_count": null,
   "id": "ba740028",
   "metadata": {
    "execution": {
     "iopub.execute_input": "2025-06-18T13:05:07.695466Z",
     "iopub.status.busy": "2025-06-18T13:05:07.695106Z",
     "iopub.status.idle": "2025-06-18T13:05:07.840639Z",
     "shell.execute_reply": "2025-06-18T13:05:07.840385Z"
    }
   },
   "outputs": [],
   "source": [
    "scores_ocsvm = ocsvm.decision_function(hybrid_features)\n",
    "print(\"OCSVM Scores:\", scores_ocsvm[:10])"
   ]
  },
  {
   "cell_type": "markdown",
   "id": "fbec00d7",
   "metadata": {},
   "source": [
    "# Modell 3"
   ]
  },
  {
   "cell_type": "markdown",
   "id": "2d99cac7",
   "metadata": {},
   "source": [
    "## DBSCAN"
   ]
  },
  {
   "cell_type": "code",
   "execution_count": null,
   "id": "97aea0ec",
   "metadata": {
    "execution": {
     "iopub.execute_input": "2025-06-18T13:05:07.842336Z",
     "iopub.status.busy": "2025-06-18T13:05:07.842237Z",
     "iopub.status.idle": "2025-06-18T13:05:08.114566Z",
     "shell.execute_reply": "2025-06-18T13:05:08.114266Z"
    }
   },
   "outputs": [],
   "source": [
    "dbscan = DBSCAN(eps=0.5, min_samples=5)  \n",
    "dbscan_labels = dbscan.fit_predict(X_test)\n",
    "dbscan_anomaly = (dbscan_labels == -1).astype(int)\n",
    "logging.info(\"\\n\" + classification_report(y_test, dbscan_anomaly))"
   ]
  },
  {
   "cell_type": "markdown",
   "id": "b549c490",
   "metadata": {},
   "source": [
    "### DBSCAN Werte: ARI, HOMO, FMI, Noise Ratio"
   ]
  },
  {
   "cell_type": "code",
   "execution_count": null,
   "id": "78d0fed1",
   "metadata": {
    "execution": {
     "iopub.execute_input": "2025-06-18T13:05:08.116457Z",
     "iopub.status.busy": "2025-06-18T13:05:08.116328Z",
     "iopub.status.idle": "2025-06-18T13:05:08.122408Z",
     "shell.execute_reply": "2025-06-18T13:05:08.122184Z"
    }
   },
   "outputs": [],
   "source": [
    "ari  = adjusted_rand_score(y_test, dbscan_anomaly)\n",
    "homo = homogeneity_score(y_test, dbscan_anomaly)\n",
    "fmi  = fowlkes_mallows_score(y_test, dbscan_anomaly)\n",
    "noise_ratio = np.sum(dbscan_labels == -1) / len(dbscan_labels)\n",
    "\n",
    "logging.info(f\"Adjusted Rand Index (ARI):     {ari:.4f}\")\n",
    "logging.info(f\"Homogeneity:                   {homo:.4f}\")\n",
    "logging.info(f\"Fowlkes-Mallows Index (FMI):   {fmi:.4f}\")\n",
    "logging.info(f\"Noise Ratio: {noise_ratio:.2f}\")"
   ]
  },
  {
   "cell_type": "markdown",
   "id": "ab11cd46",
   "metadata": {},
   "source": [
    "### DBSCAN MCC"
   ]
  },
  {
   "cell_type": "code",
   "execution_count": null,
   "id": "4a5a46a0",
   "metadata": {
    "execution": {
     "iopub.execute_input": "2025-06-18T13:05:08.123497Z",
     "iopub.status.busy": "2025-06-18T13:05:08.123374Z",
     "iopub.status.idle": "2025-06-18T13:05:08.126555Z",
     "shell.execute_reply": "2025-06-18T13:05:08.126353Z"
    }
   },
   "outputs": [],
   "source": [
    "mcc = matthews_corrcoef(y_test, dbscan_anomaly)\n",
    "logging.info(\"Matthews Correlation Coefficient: %f\", mcc)"
   ]
  },
  {
   "cell_type": "markdown",
   "id": "5811f342",
   "metadata": {},
   "source": [
    "### DBSCAN Balanced Accuracy"
   ]
  },
  {
   "cell_type": "code",
   "execution_count": null,
   "id": "7a53ffc5",
   "metadata": {
    "execution": {
     "iopub.execute_input": "2025-06-18T13:05:08.127626Z",
     "iopub.status.busy": "2025-06-18T13:05:08.127503Z",
     "iopub.status.idle": "2025-06-18T13:05:08.129969Z",
     "shell.execute_reply": "2025-06-18T13:05:08.129766Z"
    }
   },
   "outputs": [],
   "source": [
    "balanced_acc = balanced_accuracy_score(y_test, dbscan_anomaly)\n",
    "logging.info(\"Balanced Accuracy: %f\", balanced_acc)"
   ]
  },
  {
   "cell_type": "markdown",
   "id": "2569e8b7",
   "metadata": {},
   "source": [
    "### DBSCAN AUC-Kurven"
   ]
  },
  {
   "cell_type": "code",
   "execution_count": null,
   "id": "4bc51f2c",
   "metadata": {
    "execution": {
     "iopub.execute_input": "2025-06-18T13:05:08.131044Z",
     "iopub.status.busy": "2025-06-18T13:05:08.130926Z",
     "iopub.status.idle": "2025-06-18T13:05:08.274605Z",
     "shell.execute_reply": "2025-06-18T13:05:08.274418Z"
    }
   },
   "outputs": [],
   "source": [
    "from sklearn.metrics import roc_curve, roc_auc_score, precision_recall_curve, average_precision_score\n",
    "import matplotlib.pyplot as plt\n",
    "\n",
    "# Nutze die binäre Anomalie-Maske als \"Score\" (0 = normal, 1 = Anomalie)\n",
    "# → das ergibt eine einzelne Schwelle (wenig Aussagekraft, aber technisch machbar)\n",
    "scores = dbscan_anomaly  # 0 oder 1\n",
    "\n",
    "# ROC\n",
    "fpr, tpr, _ = roc_curve(y_test, scores)\n",
    "roc_auc = roc_auc_score(y_test, scores)\n",
    "\n",
    "# Precision-Recall\n",
    "precision, recall, _ = precision_recall_curve(y_test, scores)\n",
    "pr_auc = average_precision_score(y_test, scores)\n",
    "\n",
    "# Plotten\n",
    "plt.figure(figsize=(12, 5))\n",
    "\n",
    "# ROC\n",
    "plt.subplot(1, 2, 1)\n",
    "plt.plot(fpr, tpr, label=f\"AUC = {roc_auc:.3f}\")\n",
    "plt.plot([0, 1], [0, 1], linestyle=\"--\", color=\"gray\")\n",
    "plt.xlabel(\"False Positive Rate\")\n",
    "plt.ylabel(\"True Positive Rate\")\n",
    "plt.title(\"ROC Curve (DBSCAN)\")\n",
    "plt.legend()\n",
    "\n",
    "# PR\n",
    "plt.subplot(1, 2, 2)\n",
    "plt.plot(recall, precision, label=f\"AP = {pr_auc:.3f}\")\n",
    "plt.xlabel(\"Recall\")\n",
    "plt.ylabel(\"Precision\")\n",
    "plt.title(\"Precision-Recall Curve (DBSCAN)\")\n",
    "plt.legend()\n",
    "\n",
    "plt.tight_layout()\n",
    "plt.show()\n"
   ]
  }
 ],
 "metadata": {
  "kernelspec": {
   "display_name": "env",
   "language": "python",
   "name": "python3"
  },
  "language_info": {
   "codemirror_mode": {
    "name": "ipython",
    "version": 3
   },
   "file_extension": ".py",
   "mimetype": "text/x-python",
   "name": "python",
   "nbconvert_exporter": "python",
   "pygments_lexer": "ipython3",
   "version": "3.12.3"
  }
 },
 "nbformat": 4,
 "nbformat_minor": 5
}
