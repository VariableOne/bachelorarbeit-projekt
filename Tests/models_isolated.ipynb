{
 "cells": [
  {
   "cell_type": "markdown",
   "id": "e4be1983",
   "metadata": {},
   "source": [
    "# Test mit den Modellen einzeln"
   ]
  },
  {
   "cell_type": "markdown",
   "id": "a9d6c846",
   "metadata": {},
   "source": [
    "### Imports"
   ]
  },
  {
   "cell_type": "code",
   "execution_count": 1,
   "id": "7525914f",
   "metadata": {},
   "outputs": [
    {
     "name": "stderr",
     "output_type": "stream",
     "text": [
      "2025-08-29 14:50:58.210829: I tensorflow/core/platform/cpu_feature_guard.cc:210] This TensorFlow binary is optimized to use available CPU instructions in performance-critical operations.\n",
      "To enable the following instructions: AVX2 FMA, in other operations, rebuild TensorFlow with the appropriate compiler flags.\n"
     ]
    }
   ],
   "source": [
    "import numpy as np\n",
    "from sklearn.preprocessing import StandardScaler\n",
    "import pandas as pd\n",
    "from sklearn.cluster import DBSCAN\n",
    "from sklearn.metrics import classification_report\n",
    "from sklearn.ensemble import IsolationForest\n",
    "from sklearn.svm import OneClassSVM\n",
    "from matplotlib import pyplot as plt\n",
    "import tensorflow as tf\n",
    "import logging\n",
    "from sklearn.preprocessing import LabelEncoder, OneHotEncoder\n",
    "from sklearn.metrics import matthews_corrcoef\n",
    "from sklearn.metrics import balanced_accuracy_score\n",
    "import pandas as pd\n",
    "import os\n",
    "import sys\n",
    "import logging\n",
    "from sklearn.decomposition import PCA\n",
    "from sklearn.ensemble import IsolationForest\n",
    "from sklearn.svm import OneClassSVM\n",
    "import matplotlib.pyplot as plt\n",
    "import matplotlib.pyplot as plt\n",
    "from sklearn.metrics import roc_curve, roc_auc_score, precision_recall_curve, average_precision_score"
   ]
  },
  {
   "cell_type": "markdown",
   "id": "26cbcc13",
   "metadata": {},
   "source": [
    "### Logs laden"
   ]
  },
  {
   "cell_type": "code",
   "execution_count": 2,
   "id": "df309d65",
   "metadata": {},
   "outputs": [],
   "source": [
    "data_train = pd.read_json(\"train_logs.jsonl\", lines=True)\n",
    "data_test = pd.read_json(\"test_logs.jsonl\", lines=True)\n",
    "data_val = pd.read_json(\"val_logs.jsonl\", lines=True)"
   ]
  },
  {
   "cell_type": "code",
   "execution_count": 3,
   "id": "3735a81f",
   "metadata": {},
   "outputs": [],
   "source": [
    "X_train_full = pd.DataFrame(data_train)\n",
    "X_test_full = pd.DataFrame(data_test)\n",
    "X_val_full = pd.DataFrame(data_val)\n",
    "y_test_full = data_test[\"label\"]\n",
    "y_val_full = data_val[\"label\"]"
   ]
  },
  {
   "cell_type": "markdown",
   "id": "f5763cc1",
   "metadata": {},
   "source": [
    "### Daten in numerisch/kategorisch unterteilen"
   ]
  },
  {
   "cell_type": "code",
   "execution_count": 4,
   "id": "98e5c4d8",
   "metadata": {},
   "outputs": [],
   "source": [
    "import numpy as np\n",
    "from sklearn.preprocessing import LabelEncoder, OneHotEncoder\n",
    "\n",
    "def is_missing(val):\n",
    "    return val is None or (isinstance(val, float) and np.isnan(val))\n",
    "\n",
    "def flatten_log_entry(log, parent_key='', sep='.'):\n",
    "    items = []\n",
    "    for k, v in log.items():\n",
    "        new_key = f\"{parent_key}{sep}{k}\" if parent_key else k\n",
    "        if isinstance(v, dict):\n",
    "            items.extend(flatten_log_entry(v, new_key, sep=sep).items())\n",
    "        else:\n",
    "            items.append((new_key, v))\n",
    "    return dict(items)\n",
    "\n",
    "\n",
    "def auto_encode_features(logs, one_hot_numeric=False, label_encoders=None, onehot_encoders=None, fit=True):\n",
    "    # Zuerst alle Logs flach machen:\n",
    "    flat_logs = [flatten_log_entry(log) for log in logs]\n",
    "\n",
    "    # dann wie gehabt mit flachen Logs weiterarbeiten:\n",
    "    # Beispiel:\n",
    "    if label_encoders is None:\n",
    "        label_encoders = {}\n",
    "    if onehot_encoders is None:\n",
    "        onehot_encoders = {}\n",
    "\n",
    "    # Jetzt für jeden Key alle möglichen Werte bestimmen und LabelEncoder fitten\n",
    "    for key in flat_logs[0].keys():\n",
    "        # Werte aller Logs für dieses Feature sammeln\n",
    "        values = [log.get(key) if log.get(key) is not None else \"__MISSING__\" for log in flat_logs]\n",
    "\n",
    "        # Je nachdem ob es numerisch ist oder nicht (hier als Beispiel alles kategorisch)\n",
    "        if fit:\n",
    "            le = LabelEncoder()\n",
    "            le.fit(values)\n",
    "            label_encoders[key] = le\n",
    "\n",
    "    # Features dann kodieren (für Train und Test)\n",
    "    encoded_logs = []\n",
    "    for log in flat_logs:\n",
    "        encoded_log = {}\n",
    "        for key, le in label_encoders.items():\n",
    "            val = log.get(key, \"__MISSING__\")\n",
    "            # Fallback falls Wert nicht bekannt (z.B. im Test)\n",
    "            try:\n",
    "                encoded_log[key] = le.transform([val])[0]\n",
    "            except ValueError:\n",
    "                encoded_log[key] = -1  # unbekannte Kategorie\n",
    "        encoded_logs.append(encoded_log)\n",
    "\n",
    "    return encoded_logs, label_encoders, onehot_encoders\n"
   ]
  },
  {
   "cell_type": "markdown",
   "id": "0bd1846c",
   "metadata": {},
   "source": [
    "### Zusammenfügen"
   ]
  },
  {
   "cell_type": "code",
   "execution_count": 5,
   "id": "b1234eea",
   "metadata": {},
   "outputs": [],
   "source": [
    "def dicts_to_feature_matrix(encoded_logs):\n",
    "    feature_names = sorted({key for d in encoded_logs for key in d.keys()})\n",
    "\n",
    "    X = np.zeros((len(encoded_logs), len(feature_names)), dtype=np.float32)\n",
    "\n",
    "    for i, d in enumerate(encoded_logs):\n",
    "        for j, feat in enumerate(feature_names):\n",
    "            if feat in d:\n",
    "                X[i, j] = d[feat]\n",
    "\n",
    "    return X, feature_names"
   ]
  },
  {
   "cell_type": "markdown",
   "id": "e4ea765e",
   "metadata": {},
   "source": [
    "### Daten unterteilen"
   ]
  },
  {
   "cell_type": "code",
   "execution_count": 6,
   "id": "e36292be",
   "metadata": {},
   "outputs": [],
   "source": [
    "logs_train = X_train_full.to_dict(orient='records')\n",
    "#logs_train = events\n",
    "logs_test = X_test_full.to_dict(orient='records')\n",
    "logs_val = X_val_full.to_dict(orient='records')\n",
    "\n",
    "encoded_logs, label_encoders, onehot_encoders = auto_encode_features(\n",
    "    logs_train, one_hot_numeric=False, fit=True\n",
    ")\n",
    "X_train, feature_names = dicts_to_feature_matrix(encoded_logs)\n",
    "\n",
    "encoded_test_logs, _, _ = auto_encode_features(\n",
    "    logs_test, one_hot_numeric=False,\n",
    "    label_encoders=label_encoders, onehot_encoders=onehot_encoders, fit=False\n",
    ")\n",
    "X_test, _ = dicts_to_feature_matrix(encoded_test_logs)\n",
    "\n",
    "encoded_val_logs, _, _ = auto_encode_features(\n",
    "    logs_val, one_hot_numeric=False,\n",
    "    label_encoders=label_encoders, onehot_encoders=onehot_encoders, fit=False\n",
    ")\n",
    "X_val, _ = dicts_to_feature_matrix(encoded_val_logs)"
   ]
  },
  {
   "cell_type": "markdown",
   "id": "ec7b87bb",
   "metadata": {},
   "source": [
    "### Skalieren"
   ]
  },
  {
   "cell_type": "code",
   "execution_count": 7,
   "id": "a3360231",
   "metadata": {},
   "outputs": [],
   "source": [
    "scaler = StandardScaler()\n",
    "X_train_scaled = scaler.fit_transform(X_train)\n",
    "X_test_scaled = scaler.transform(X_test)\n",
    "X_val_scaled = scaler.transform(X_val)"
   ]
  },
  {
   "cell_type": "markdown",
   "id": "43e73d9f",
   "metadata": {},
   "source": [
    "### Test mit IF"
   ]
  },
  {
   "cell_type": "code",
   "execution_count": null,
   "id": "639622ca",
   "metadata": {},
   "outputs": [
    {
     "name": "stdout",
     "output_type": "stream",
     "text": [
      "Test Classification Report:\n",
      "              precision    recall  f1-score   support\n",
      "\n",
      "           0       1.00      1.00      1.00      5850\n",
      "           1       1.00      0.10      0.18        31\n",
      "\n",
      "    accuracy                           1.00      5881\n",
      "   macro avg       1.00      0.55      0.59      5881\n",
      "weighted avg       1.00      1.00      0.99      5881\n",
      "\n"
     ]
    }
   ],
   "source": [
    "iforest = IsolationForest(random_state=42, contamination=0.0008, max_samples = 'auto')\n",
    "iforest.fit(X_train_scaled)\n",
    "\n",
    "test_scores = iforest.decision_function(X_test_scaled)\n",
    "test_preds = iforest.predict(X_test_scaled)\n",
    "y_test_pred = (test_preds == -1).astype(int)\n",
    "#logging.info(\"Test Classification Report:\\n\" + classification_report(y_test_full, y_test_pred))\n",
    "print(\"Test Classification Report:\\n\" + classification_report(y_test_full, y_test_pred))"
   ]
  },
  {
   "cell_type": "markdown",
   "id": "33e1bb5a",
   "metadata": {},
   "source": [
    "### Test IF MCC"
   ]
  },
  {
   "cell_type": "code",
   "execution_count": 21,
   "id": "0bc97862",
   "metadata": {},
   "outputs": [
    {
     "name": "stdout",
     "output_type": "stream",
     "text": [
      "Matthews Correlation Coefficient: %f 0.3103436921499152\n"
     ]
    }
   ],
   "source": [
    "mcc = matthews_corrcoef(y_test_full, y_test_pred)\n",
    "#logging.info(\"Matthews Correlation Coefficient: %f\", mcc)\n",
    "print(\"Matthews Correlation Coefficient: %f\", mcc)"
   ]
  },
  {
   "cell_type": "markdown",
   "id": "b126e4c7",
   "metadata": {},
   "source": [
    "### Test IF Balanced Accuracy"
   ]
  },
  {
   "cell_type": "code",
   "execution_count": 10,
   "id": "1fb30df2",
   "metadata": {},
   "outputs": [
    {
     "name": "stdout",
     "output_type": "stream",
     "text": [
      "Balanced Accuracy: %f 0.5483870967741935\n"
     ]
    }
   ],
   "source": [
    "balanced_acc = balanced_accuracy_score(y_test_full, y_test_pred)\n",
    "#logging.info(\"Balanced Accuracy: %f\", balanced_acc)\n",
    "print(\"Balanced Accuracy: %f\", balanced_acc)"
   ]
  },
  {
   "cell_type": "markdown",
   "id": "bd5da02f",
   "metadata": {},
   "source": [
    "### Test IF AUC-Kurven"
   ]
  },
  {
   "cell_type": "code",
   "execution_count": 11,
   "id": "e98cdc6f",
   "metadata": {},
   "outputs": [
    {
     "data": {
      "image/png": "[encoded data removed]",
      "text/plain": [
       "<Figure size 1200x500 with 1 Axes>"
      ]
     },
     "metadata": {},
     "output_type": "display_data"
    },
    {
     "data": {
      "image/png": "[encoded data removed]",
      "text/plain": [
       "<Figure size 640x480 with 1 Axes>"
      ]
     },
     "metadata": {},
     "output_type": "display_data"
    }
   ],
   "source": [
    "# Anomaly Scores invertieren (höher = anomal)\n",
    "anomaly_scores = -test_scores\n",
    "\n",
    "# ROC-Kurve und AUC\n",
    "fpr, tpr, _ = roc_curve(y_test_full, anomaly_scores)\n",
    "roc_auc = roc_auc_score(y_test_full, anomaly_scores)\n",
    "\n",
    "# Precision-Recall-Kurve und Average Precision (PR AUC)\n",
    "precision, recall, _ = precision_recall_curve(y_test_full, anomaly_scores)\n",
    "pr_auc = average_precision_score(y_test_full, anomaly_scores)\n",
    "\n",
    "# Plot ROC Curve\n",
    "plt.figure(figsize=(12, 5))\n",
    "\n",
    "plt.subplot(1, 2, 1)\n",
    "plt.plot(fpr, tpr, label=f\"AUC = {roc_auc:.3f}\")\n",
    "plt.plot([0, 1], [0, 1], linestyle=\"--\", color=\"gray\")\n",
    "plt.xlabel(\"False Positive Rate\")\n",
    "plt.ylabel(\"True Positive Rate\")\n",
    "plt.title(\"ROC Curve\")\n",
    "plt.legend()\n",
    "plt.tight_layout()\n",
    "plt.show()\n",
    "\n",
    "# Plot Precision-Recall Curve\n",
    "plt.subplot(1, 2, 2)\n",
    "plt.plot(recall, precision, label=f\"AP = {pr_auc:.3f}\")\n",
    "plt.xlabel(\"Recall\")\n",
    "plt.ylabel(\"Precision\")\n",
    "plt.title(\"Precision-Recall Curve\")\n",
    "plt.legend()\n",
    "plt.tight_layout()\n",
    "plt.show()"
   ]
  },
  {
   "cell_type": "markdown",
   "id": "fe99bb0e",
   "metadata": {},
   "source": [
    "### Test DBSCAN "
   ]
  },
  {
   "cell_type": "code",
   "execution_count": 23,
   "id": "0d7af3ac",
   "metadata": {},
   "outputs": [
    {
     "name": "stdout",
     "output_type": "stream",
     "text": [
      "Test Classification Report:\n",
      "              precision    recall  f1-score   support\n",
      "\n",
      "           0       1.00      1.00      1.00      5850\n",
      "           1       0.90      0.29      0.44        31\n",
      "\n",
      "    accuracy                           1.00      5881\n",
      "   macro avg       0.95      0.65      0.72      5881\n",
      "weighted avg       1.00      1.00      1.00      5881\n",
      "\n"
     ]
    }
   ],
   "source": [
    "for eps in np.linspace(0.01, 1.0, 100):\n",
    "    dbscan = DBSCAN(min_samples=3, metric='euclidean', eps=eps)\n",
    "    labels = dbscan.fit_predict(X_test_scaled)\n",
    "    n_anomalies = np.sum(labels == -1)\n",
    "    if abs(n_anomalies - 31) <= 2:\n",
    "        print(f'Passender eps-Wert: {eps}, Anomalien: {n_anomalies}')\n",
    "        break\n",
    "\n",
    "y_pred = np.where(labels == -1, 1, 0)\n",
    "print(\"Test Classification Report:\\n\" + classification_report(y_test_full, y_pred))"
   ]
  },
  {
   "cell_type": "markdown",
   "id": "54975d05",
   "metadata": {},
   "source": [
    "### Test DBSCAN MCC"
   ]
  },
  {
   "cell_type": "code",
   "execution_count": 14,
   "id": "5d435804",
   "metadata": {},
   "outputs": [],
   "source": [
    "# mcc = matthews_corrcoef(y_test_full, dbscan_anomaly_test)\n",
    "# #logging.info(\"Matthews Correlation Coefficient: %f\", mcc)\n",
    "# print(\"Matthews Correlation Coefficient: %f\", mcc)"
   ]
  },
  {
   "cell_type": "markdown",
   "id": "0009ecb3",
   "metadata": {},
   "source": [
    "### Test DBSCAN Balanced Accuracy"
   ]
  },
  {
   "cell_type": "code",
   "execution_count": 15,
   "id": "7fa8f15b",
   "metadata": {},
   "outputs": [],
   "source": [
    "# balanced_acc = balanced_accuracy_score(y_test_full, dbscan_anomaly_test)\n",
    "# #logging.info(\"Balanced Accuracy: %f\", balanced_acc)\n",
    "# print(\"Balanced Accuracy: %f\", balanced_acc)"
   ]
  },
  {
   "cell_type": "markdown",
   "id": "7af412a5",
   "metadata": {},
   "source": [
    "### Test DBSCAN AUC-Kurven"
   ]
  },
  {
   "cell_type": "code",
   "execution_count": 16,
   "id": "4e305cfa",
   "metadata": {},
   "outputs": [],
   "source": [
    "# # Dummy-Scores: Anomalie = 1.0, Normal = 0.0 (nicht ideal!)\n",
    "# anomaly_scores = (dbscan_labels_test == -1).astype(float)\n",
    "\n",
    "# fpr, tpr, _ = roc_curve(y_test_full, anomaly_scores)\n",
    "# roc_auc = roc_auc_score(y_test_full, anomaly_scores)\n",
    "\n",
    "# precision, recall, _ = precision_recall_curve(y_test_full, anomaly_scores)\n",
    "# pr_auc = average_precision_score(y_test_full, anomaly_scores)\n",
    "\n",
    "# # Plotten\n",
    "# plt.figure(figsize=(12, 5))\n",
    "\n",
    "# plt.subplot(1, 2, 1)\n",
    "# plt.plot(fpr, tpr, label=f\"AUC = {roc_auc:.3f}\")\n",
    "# plt.plot([0, 1], [0, 1], linestyle=\"--\", color=\"gray\")\n",
    "# plt.xlabel(\"False Positive Rate\")\n",
    "# plt.ylabel(\"True Positive Rate\")\n",
    "# plt.title(\"ROC Curve\")\n",
    "# plt.legend()\n",
    "# plt.tight_layout()\n",
    "# plt.show()\n",
    "\n",
    "# plt.subplot(1, 2, 2)\n",
    "# plt.plot(recall, precision, label=f\"AP = {pr_auc:.3f}\")\n",
    "# plt.xlabel(\"Recall\")\n",
    "# plt.ylabel(\"Precision\")\n",
    "# plt.title(\"Precision-Recall Curve\")\n",
    "# plt.legend()\n",
    "# plt.tight_layout()\n",
    "# plt.show()"
   ]
  },
  {
   "cell_type": "markdown",
   "id": "9b5fc08b",
   "metadata": {},
   "source": [
    "### Test OCSVM"
   ]
  },
  {
   "cell_type": "code",
   "execution_count": 17,
   "id": "c4f8d7bd",
   "metadata": {},
   "outputs": [
    {
     "name": "stdout",
     "output_type": "stream",
     "text": [
      "Test Report:\n",
      "              precision    recall  f1-score   support\n",
      "\n",
      "           0       1.00      0.83      0.91      5850\n",
      "           1       0.03      1.00      0.06        31\n",
      "\n",
      "    accuracy                           0.83      5881\n",
      "   macro avg       0.52      0.92      0.48      5881\n",
      "weighted avg       0.99      0.83      0.90      5881\n",
      "\n"
     ]
    }
   ],
   "source": [
    "ocsvm = OneClassSVM(nu = 0.0008, gamma='scale', kernel = 'rbf')\n",
    "ocsvm.fit(X_train_scaled)\n",
    "\n",
    "y_pred_test_oc = ocsvm.predict(X_test_scaled)\n",
    "anomaly_test = (y_pred_test_oc == -1).astype(int)\n",
    "#logging.info(\"Test Report:\\n\" + classification_report(y_test_full, anomaly_test))\n",
    "print(\"Test Report:\\n\" + classification_report(y_test_full, anomaly_test))"
   ]
  },
  {
   "cell_type": "markdown",
   "id": "6e320b9d",
   "metadata": {},
   "source": [
    "### OCSVM MCC"
   ]
  },
  {
   "cell_type": "code",
   "execution_count": 18,
   "id": "d1128357",
   "metadata": {},
   "outputs": [
    {
     "name": "stdout",
     "output_type": "stream",
     "text": [
      "Matthews Correlation Coefficient: %f 0.1602474891741323\n"
     ]
    }
   ],
   "source": [
    "mcc = matthews_corrcoef(y_test_full, anomaly_test)\n",
    "#logging.info(\"Matthews Correlation Coefficient: %f\", mcc)\n",
    "print(\"Matthews Correlation Coefficient: %f\", mcc)"
   ]
  },
  {
   "cell_type": "markdown",
   "id": "76bacbd7",
   "metadata": {},
   "source": [
    "### OCSVM Balanced Accuracy"
   ]
  },
  {
   "cell_type": "code",
   "execution_count": 19,
   "id": "3948d7da",
   "metadata": {},
   "outputs": [
    {
     "name": "stdout",
     "output_type": "stream",
     "text": [
      "Balanced Accuracy: %f 0.9166666666666667\n"
     ]
    }
   ],
   "source": [
    "balanced_acc = balanced_accuracy_score(y_test_full, anomaly_test)\n",
    "#logging.info(\"Balanced Accuracy: %f\", balanced_acc)\n",
    "print(\"Balanced Accuracy: %f\", balanced_acc)"
   ]
  },
  {
   "cell_type": "markdown",
   "id": "59789ad7",
   "metadata": {},
   "source": [
    "### OCSVM AUC-Kurven"
   ]
  },
  {
   "cell_type": "code",
   "execution_count": null,
   "id": "81f675ba",
   "metadata": {},
   "outputs": [],
   "source": [
    "# Score: Decision Function (negiert für \"mehr Anomalie = höherer Score\")\n",
    "scores = -ocsvm.decision_function(X_test_scaled)\n",
    "\n",
    "# ROC\n",
    "fpr, tpr, _ = roc_curve(y_test_full, scores)\n",
    "roc_auc = roc_auc_score(y_test_full, scores)\n",
    "\n",
    "# Precision-Recall\n",
    "precision, recall, _ = precision_recall_curve(y_test_full, scores)\n",
    "pr_auc = average_precision_score(y_test_full, scores)\n",
    "\n",
    "# Plotten\n",
    "plt.figure(figsize=(12, 5))\n",
    "\n",
    "# ROC\n",
    "plt.subplot(1, 2, 1)\n",
    "plt.plot(fpr, tpr, label=f\"AUC = {roc_auc:.3f}\")\n",
    "plt.plot([0, 1], [0, 1], linestyle=\"--\", color=\"gray\")\n",
    "plt.xlabel(\"False Positive Rate\")\n",
    "plt.ylabel(\"True Positive Rate\")\n",
    "plt.title(\"ROC Curve\")\n",
    "plt.legend()\n",
    "plt.tight_layout()\n",
    "plt.show()\n",
    "\n",
    "# PR\n",
    "plt.subplot(1, 2, 2)\n",
    "plt.plot(recall, precision, label=f\"AP = {pr_auc:.3f}\")\n",
    "plt.xlabel(\"Recall\")\n",
    "plt.ylabel(\"Precision\")\n",
    "plt.title(\"Precision-Recall Curve\")\n",
    "plt.legend()\n",
    "plt.tight_layout()\n",
    "plt.show()"
   ]
  }
 ],
 "metadata": {
  "kernelspec": {
   "display_name": "env",
   "language": "python",
   "name": "python3"
  },
  "language_info": {
   "codemirror_mode": {
    "name": "ipython",
    "version": 3
   },
   "file_extension": ".py",
   "mimetype": "text/x-python",
   "name": "python",
   "nbconvert_exporter": "python",
   "pygments_lexer": "ipython3",
   "version": "3.12.3"
  }
 },
 "nbformat": 4,
 "nbformat_minor": 5
}
