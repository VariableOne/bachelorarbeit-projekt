{
 "cells": [
  {
   "cell_type": "markdown",
   "id": "e4be1983",
   "metadata": {},
   "source": [
    "# Test mit den Modellen einzeln"
   ]
  },
  {
   "cell_type": "markdown",
   "id": "a9d6c846",
   "metadata": {},
   "source": [
    "### Imports"
   ]
  },
  {
   "cell_type": "code",
   "execution_count": null,
   "id": "7525914f",
   "metadata": {},
   "outputs": [],
   "source": [
    "import numpy as np\n",
    "from sklearn.preprocessing import StandardScaler\n",
    "import pandas as pd\n",
    "from sklearn.metrics import classification_report\n",
    "from sklearn.ensemble import IsolationForest\n",
    "from sklearn.preprocessing import StandardScaler\n",
    "from matplotlib import pyplot as plt\n",
    "from sklearn.metrics import classification_report, roc_curve, auc\n",
    "import logging\n",
    "from sklearn.svm import OneClassSVM\n",
    "from sklearn.cluster import DBSCAN\n",
    "from sklearn.metrics import roc_auc_score\n",
    "from sklearn.metrics import matthews_corrcoef\n",
    "from sklearn.metrics import balanced_accuracy_score\n",
    "import sys\n",
    "import logging"
   ]
  },
  {
   "cell_type": "markdown",
   "id": "b5074318",
   "metadata": {},
   "source": [
    "### Logging"
   ]
  },
  {
   "cell_type": "code",
   "execution_count": null,
   "id": "cfd950b6",
   "metadata": {},
   "outputs": [],
   "source": [
    "logfile_two = open(\"output_log.txt\", \"w\")\n",
    "\n",
    "sys.stdout = logfile_two\n",
    "sys.stderr = logfile_two\n",
    "\n",
    "logging.basicConfig(\n",
    "    level=logging.INFO,\n",
    "    format=\"%(asctime)s - %(levelname)s - %(message)s\",\n",
    "    stream=logfile_two,\n",
    "    force=True  # falls schon vorher etwas konfiguriert war\n",
    ")\n",
    "\n",
    "print(\"Das ist eine Print-Ausgabe.\")\n",
    "logging.info(\"Das ist eine Log-Nachricht.\")"
   ]
  },
  {
   "cell_type": "markdown",
   "id": "26cbcc13",
   "metadata": {},
   "source": [
    "### Logs laden"
   ]
  },
  {
   "cell_type": "code",
   "execution_count": null,
   "id": "df309d65",
   "metadata": {},
   "outputs": [],
   "source": [
    "data_train = pd.read_json(\"train_logs.json\", lines=False)\n",
    "data_test = pd.read_json(\"test_logs.json\", lines=False)"
   ]
  },
  {
   "cell_type": "markdown",
   "id": "f5763cc1",
   "metadata": {},
   "source": [
    "### Daten in numerisch/kategorisch unterteilen"
   ]
  },
  {
   "cell_type": "code",
   "execution_count": null,
   "id": "98e5c4d8",
   "metadata": {},
   "outputs": [],
   "source": [
    "from sklearn.preprocessing import LabelEncoder, OneHotEncoder\n",
    "import numpy as np\n",
    "\n",
    "def auto_encode_features(logs, one_hot_numeric=False):\n",
    "    if logs is None or len(logs) == 0:\n",
    "        return [], {}, {}\n",
    "\n",
    "    # Falls logs ein DataFrame ist, in Liste von dicts konvertieren\n",
    "    if hasattr(logs, \"to_dict\"):\n",
    "        logs = logs.to_dict(orient='records')\n",
    "\n",
    "    label_encoders = {}\n",
    "    onehot_encoders = {}\n",
    "    sample = logs[0]\n",
    "\n",
    "    all_keys = sample.keys()\n",
    "    encoded_logs = []\n",
    "\n",
    "    for log in logs:\n",
    "        encoded = {}\n",
    "        for key in all_keys:\n",
    "            val = log.get(key)\n",
    "\n",
    "            if val is None:\n",
    "                continue\n",
    "\n",
    "            # Numerische Werte\n",
    "            if isinstance(val, (int, float)) and not isinstance(val, bool):\n",
    "                if one_hot_numeric:\n",
    "                    if key not in onehot_encoders:\n",
    "                        values = [\n",
    "                            [l.get(key)] for l in logs\n",
    "                            if isinstance(l.get(key), (int, float)) and not isinstance(l.get(key), bool)\n",
    "                        ]\n",
    "                        if values:\n",
    "                            encoder = OneHotEncoder(sparse_output=False, handle_unknown='ignore')\n",
    "                            encoder.fit(values)\n",
    "                            onehot_encoders[key] = encoder\n",
    "                    if key in onehot_encoders:\n",
    "                        enc = onehot_encoders[key].transform([[val]])[0]\n",
    "                        for i, v in enumerate(enc):\n",
    "                            encoded[f\"{key}_{i}\"] = v\n",
    "                    else:\n",
    "                        encoded[key] = val  # Numeric passthrough\n",
    "                else:\n",
    "                    encoded[key] = val  # Numeric passthrough\n",
    "\n",
    "            # Kategorische Werte (Strings)\n",
    "            elif isinstance(val, str):\n",
    "                if key not in label_encoders:\n",
    "                    le = LabelEncoder()\n",
    "                    values = [l.get(key) for l in logs if l.get(key) is not None]\n",
    "                    le.fit(values)\n",
    "                    label_encoders[key] = le\n",
    "                encoded[key] = label_encoders[key].transform([val])[0]\n",
    "\n",
    "            # Listen (z.B. \"roles\")\n",
    "            elif isinstance(val, list):\n",
    "                for i, item in enumerate(val):\n",
    "                    label = f\"{key}_{i}\"\n",
    "                    if label not in label_encoders:\n",
    "                        le = LabelEncoder()\n",
    "                        values = [itm for l in logs for itm in l.get(key, [])]\n",
    "                        le.fit(values)\n",
    "                        label_encoders[label] = le\n",
    "                    encoded[label] = label_encoders[label].transform([item])[0]\n",
    "\n",
    "            # Andere Datentypen ignorieren\n",
    "            else:\n",
    "                continue\n",
    "\n",
    "        encoded_logs.append(encoded)\n",
    "\n",
    "    return encoded_logs, label_encoders, onehot_encoders\n"
   ]
  },
  {
   "cell_type": "markdown",
   "id": "0bd1846c",
   "metadata": {},
   "source": [
    "### Zusammenfügen"
   ]
  },
  {
   "cell_type": "code",
   "execution_count": null,
   "id": "b1234eea",
   "metadata": {},
   "outputs": [],
   "source": [
    "def dicts_to_feature_matrix(encoded_logs):\n",
    "    feature_names = sorted({key for d in encoded_logs for key in d.keys()})\n",
    "\n",
    "    X = np.zeros((len(encoded_logs), len(feature_names)), dtype=np.float32)\n",
    "\n",
    "    for i, d in enumerate(encoded_logs):\n",
    "        for j, feat in enumerate(feature_names):\n",
    "            if feat in d:\n",
    "                X[i, j] = d[feat]\n",
    "\n",
    "    return X, feature_names"
   ]
  },
  {
   "cell_type": "markdown",
   "id": "e4ea765e",
   "metadata": {},
   "source": [
    "### Daten unterteilen"
   ]
  },
  {
   "cell_type": "code",
   "execution_count": null,
   "id": "e36292be",
   "metadata": {},
   "outputs": [],
   "source": [
    "logs_train = data_train.to_dict(orient='records')\n",
    "logs_test = data_test.to_dict(orient='records')\n",
    "\n",
    "encoded_logs, label_encoders, onehot_encoders = auto_encode_features(logs_train, one_hot_numeric=True)\n",
    "X_train, feature_names = dicts_to_feature_matrix(encoded_logs)\n",
    "print(f\"Feature Matrix Shape: {X_train.shape}\")\n",
    "\n",
    "encoded_test_logs, _, _ = auto_encode_features(logs_test, one_hot_numeric=True)\n",
    "X_test, _ = dicts_to_feature_matrix(encoded_test_logs)"
   ]
  },
  {
   "cell_type": "markdown",
   "id": "397bc9d7",
   "metadata": {},
   "source": [
    "### In Dataframe umwandeln"
   ]
  },
  {
   "cell_type": "code",
   "execution_count": null,
   "id": "8a8d4ce1",
   "metadata": {},
   "outputs": [],
   "source": [
    "X_train_full = pd.DataFrame(X_train)\n",
    "X_train_full = X_train_full.apply(pd.to_numeric).fillna(0)\n",
    "X_test_full = pd.DataFrame(X_test)\n",
    "X_test_full = X_test_full.apply(pd.to_numeric).fillna(0)\n",
    "y_test_full = data_test[\"label\"]"
   ]
  },
  {
   "cell_type": "markdown",
   "id": "ec7b87bb",
   "metadata": {},
   "source": [
    "### Skalieren"
   ]
  },
  {
   "cell_type": "code",
   "execution_count": null,
   "id": "a3360231",
   "metadata": {},
   "outputs": [],
   "source": [
    " # Daten skalieren, standardisierte Werte\n",
    "scaler = StandardScaler()\n",
    "X_train_scaled = scaler.fit_transform(X_train_full).astype(np.float32)\n",
    "X_test_scaled = scaler.transform(X_test_full).astype(np.float32)"
   ]
  },
  {
   "cell_type": "markdown",
   "id": "43e73d9f",
   "metadata": {},
   "source": [
    "### Test mit IF"
   ]
  },
  {
   "cell_type": "code",
   "execution_count": null,
   "id": "639622ca",
   "metadata": {},
   "outputs": [],
   "source": [
    "iforest = IsolationForest(contamination=0.2, random_state=42)\n",
    "iforest.fit(X_train_full)\n",
    "scores = iforest.decision_function(X_test_full)\n",
    "preds = iforest.predict(X_test_full)\n",
    "y_pred = (preds == -1).astype(int)\n",
    "logging.info(classification_report(y_test_full, y_pred))"
   ]
  },
  {
   "cell_type": "markdown",
   "id": "33e1bb5a",
   "metadata": {},
   "source": [
    "### Test IF MCC"
   ]
  },
  {
   "cell_type": "code",
   "execution_count": null,
   "id": "0bc97862",
   "metadata": {},
   "outputs": [],
   "source": [
    "mcc = matthews_corrcoef(y_test_full, y_pred)\n",
    "logging.info(\"Matthews Correlation Coefficient: %f\", mcc)"
   ]
  },
  {
   "cell_type": "markdown",
   "id": "b126e4c7",
   "metadata": {},
   "source": [
    "### Test IF Balanced Accuracy"
   ]
  },
  {
   "cell_type": "code",
   "execution_count": null,
   "id": "1fb30df2",
   "metadata": {},
   "outputs": [],
   "source": [
    "balanced_acc = balanced_accuracy_score(y_test_full, y_pred)\n",
    "logging.info(\"Balanced Accuracy: %f\", balanced_acc)"
   ]
  },
  {
   "cell_type": "markdown",
   "id": "bd5da02f",
   "metadata": {},
   "source": [
    "### Test IF AUC-Kurven"
   ]
  },
  {
   "cell_type": "code",
   "execution_count": null,
   "id": "e98cdc6f",
   "metadata": {},
   "outputs": [],
   "source": [
    "import matplotlib.pyplot as plt\n",
    "from sklearn.metrics import roc_curve, roc_auc_score, precision_recall_curve, average_precision_score\n",
    "\n",
    "# Die Anomaly Scores invertieren, damit höher = \"mehr anomal\"\n",
    "anomaly_scores = -scores  # wichtig für ROC/PR-Logik\n",
    "\n",
    "# ROC-Kurve und AUC\n",
    "fpr, tpr, _ = roc_curve(y_test_full, anomaly_scores)\n",
    "roc_auc = roc_auc_score(y_test_full, anomaly_scores)\n",
    "\n",
    "# Precision-Recall-Kurve und Average Precision (PR AUC)\n",
    "precision, recall, _ = precision_recall_curve(y_test_full, anomaly_scores)\n",
    "pr_auc = average_precision_score(y_test_full, anomaly_scores)\n",
    "\n",
    "# Plot ROC Curve\n",
    "plt.figure(figsize=(12, 5))\n",
    "\n",
    "plt.subplot(1, 2, 1)\n",
    "plt.plot(fpr, tpr, label=f\"AUC = {roc_auc:.3f}\")\n",
    "plt.plot([0, 1], [0, 1], linestyle=\"--\", color=\"gray\")\n",
    "plt.xlabel(\"False Positive Rate\")\n",
    "plt.ylabel(\"True Positive Rate\")\n",
    "plt.title(\"ROC Curve\")\n",
    "plt.legend()\n",
    "\n",
    "# Plot Precision-Recall Curve\n",
    "plt.subplot(1, 2, 2)\n",
    "plt.plot(recall, precision, label=f\"AP = {pr_auc:.3f}\")\n",
    "plt.xlabel(\"Recall\")\n",
    "plt.ylabel(\"Precision\")\n",
    "plt.title(\"Precision-Recall Curve\")\n",
    "plt.legend()\n",
    "\n",
    "plt.tight_layout()\n",
    "plt.show()\n"
   ]
  },
  {
   "cell_type": "markdown",
   "id": "fe99bb0e",
   "metadata": {},
   "source": [
    "### Test DBSCAN "
   ]
  },
  {
   "cell_type": "code",
   "execution_count": null,
   "id": "0d7af3ac",
   "metadata": {},
   "outputs": [],
   "source": [
    "dbscan = DBSCAN(eps=1.5, min_samples=3, metric='euclidean', n_jobs=-1)\n",
    "dbscan_labels = dbscan.fit_predict(X_test_scaled)\n",
    "dbscan_anomaly = (dbscan_labels == -1).astype(int)\n",
    "logging.info(classification_report(y_test_full, dbscan_anomaly))"
   ]
  },
  {
   "cell_type": "markdown",
   "id": "54975d05",
   "metadata": {},
   "source": [
    "### Test DBSCAN MCC"
   ]
  },
  {
   "cell_type": "code",
   "execution_count": null,
   "id": "5d435804",
   "metadata": {},
   "outputs": [],
   "source": [
    "mcc = matthews_corrcoef(y_test_full, dbscan_anomaly)\n",
    "logging.info(\"Matthews Correlation Coefficient: %f\", mcc)"
   ]
  },
  {
   "cell_type": "markdown",
   "id": "0009ecb3",
   "metadata": {},
   "source": [
    "### Test DBSCAN Balanced Accuracy"
   ]
  },
  {
   "cell_type": "code",
   "execution_count": null,
   "id": "7fa8f15b",
   "metadata": {},
   "outputs": [],
   "source": [
    "balanced_acc = balanced_accuracy_score(y_test_full, dbscan_anomaly)\n",
    "logging.info(\"Balanced Accuracy: %f\", balanced_acc)"
   ]
  },
  {
   "cell_type": "markdown",
   "id": "7af412a5",
   "metadata": {},
   "source": [
    "### Test DBSCAN AUC-Kurven"
   ]
  },
  {
   "cell_type": "code",
   "execution_count": null,
   "id": "4e305cfa",
   "metadata": {},
   "outputs": [],
   "source": [
    "# \"Fake Score\": 1 für Anomalie, 0 für normal\n",
    "# (nur damit du überhaupt eine Kurve bekommst)\n",
    "anomaly_scores = dbscan_anomaly  # 0/1-Wert\n",
    "\n",
    "# ROC & PR Kurven\n",
    "from sklearn.metrics import roc_curve, roc_auc_score, precision_recall_curve, average_precision_score\n",
    "import matplotlib.pyplot as plt\n",
    "\n",
    "fpr, tpr, _ = roc_curve(y_test_full, anomaly_scores)\n",
    "roc_auc = roc_auc_score(y_test_full, anomaly_scores)\n",
    "\n",
    "precision, recall, _ = precision_recall_curve(y_test_full, anomaly_scores)\n",
    "pr_auc = average_precision_score(y_test_full, anomaly_scores)\n",
    "\n",
    "# Plotten\n",
    "plt.figure(figsize=(12, 5))\n",
    "\n",
    "plt.subplot(1, 2, 1)\n",
    "plt.plot(fpr, tpr, label=f\"AUC = {roc_auc:.3f}\")\n",
    "plt.plot([0, 1], [0, 1], linestyle=\"--\", color=\"gray\")\n",
    "plt.xlabel(\"False Positive Rate\")\n",
    "plt.ylabel(\"True Positive Rate\")\n",
    "plt.title(\"ROC Curve\")\n",
    "plt.legend()\n",
    "\n",
    "plt.subplot(1, 2, 2)\n",
    "plt.plot(recall, precision, label=f\"AP = {pr_auc:.3f}\")\n",
    "plt.xlabel(\"Recall\")\n",
    "plt.ylabel(\"Precision\")\n",
    "plt.title(\"Precision-Recall Curve\")\n",
    "plt.legend()\n",
    "\n",
    "plt.tight_layout()\n",
    "plt.show()\n"
   ]
  },
  {
   "cell_type": "markdown",
   "id": "9b5fc08b",
   "metadata": {},
   "source": [
    "### Test OCSVM"
   ]
  },
  {
   "cell_type": "code",
   "execution_count": null,
   "id": "c4f8d7bd",
   "metadata": {},
   "outputs": [],
   "source": [
    "ocsvm = OneClassSVM(kernel='rbf', gamma='scale', nu=0.05)\n",
    "ocsvm.fit(X_train_scaled)\n",
    "y_pred_ocsvm = ocsvm.predict(X_test_scaled)\n",
    "anomaly = (y_pred_ocsvm == -1).astype(int)\n",
    "logging.info(classification_report(y_test_full, anomaly))"
   ]
  },
  {
   "cell_type": "markdown",
   "id": "6e320b9d",
   "metadata": {},
   "source": [
    "### OCSVM MCC"
   ]
  },
  {
   "cell_type": "code",
   "execution_count": null,
   "id": "d1128357",
   "metadata": {},
   "outputs": [],
   "source": [
    "mcc = matthews_corrcoef(y_test_full, anomaly)\n",
    "logging.info(\"Matthews Correlation Coefficient: %f\", mcc)"
   ]
  },
  {
   "cell_type": "markdown",
   "id": "76bacbd7",
   "metadata": {},
   "source": [
    "### OCSVM Balanced Accuracy"
   ]
  },
  {
   "cell_type": "code",
   "execution_count": null,
   "id": "3948d7da",
   "metadata": {},
   "outputs": [],
   "source": [
    "balanced_acc = balanced_accuracy_score(y_test_full, anomaly)\n",
    "logging.info(\"Balanced Accuracy: %f\", balanced_acc)"
   ]
  },
  {
   "cell_type": "markdown",
   "id": "59789ad7",
   "metadata": {},
   "source": [
    "### OCSVM AUC-Kurven"
   ]
  },
  {
   "cell_type": "code",
   "execution_count": null,
   "id": "81f675ba",
   "metadata": {},
   "outputs": [],
   "source": [
    "from sklearn.metrics import roc_curve, roc_auc_score, precision_recall_curve, average_precision_score\n",
    "import matplotlib.pyplot as plt\n",
    "\n",
    "# Anomalie-Score (höher = wahrscheinlicher Anomalie)\n",
    "scores = -ocsvm.decision_function(X_test_scaled)\n",
    "\n",
    "# ROC\n",
    "fpr, tpr, _ = roc_curve(y_test_full, scores)\n",
    "roc_auc = roc_auc_score(y_test_full, scores)\n",
    "\n",
    "# Precision-Recall\n",
    "precision, recall, _ = precision_recall_curve(y_test_full, scores)\n",
    "pr_auc = average_precision_score(y_test_full, scores)\n",
    "\n",
    "# Plotten\n",
    "plt.figure(figsize=(12, 5))\n",
    "\n",
    "# ROC Curve\n",
    "plt.subplot(1, 2, 1)\n",
    "plt.plot(fpr, tpr, label=f\"AUC = {roc_auc:.3f}\")\n",
    "plt.plot([0, 1], [0, 1], linestyle=\"--\", color=\"gray\")\n",
    "plt.xlabel(\"False Positive Rate\")\n",
    "plt.ylabel(\"True Positive Rate\")\n",
    "plt.title(\"ROC Curve\")\n",
    "plt.legend()\n",
    "\n",
    "# PR Curve\n",
    "plt.subplot(1, 2, 2)\n",
    "plt.plot(recall, precision, label=f\"AP = {pr_auc:.3f}\")\n",
    "plt.xlabel(\"Recall\")\n",
    "plt.ylabel(\"Precision\")\n",
    "plt.title(\"Precision-Recall Curve\")\n",
    "plt.legend()\n",
    "\n",
    "plt.tight_layout()\n",
    "plt.show()\n"
   ]
  }
 ],
 "metadata": {
  "kernelspec": {
   "display_name": "env",
   "language": "python",
   "name": "python3"
  },
  "language_info": {
   "codemirror_mode": {
    "name": "ipython",
    "version": 3
   },
   "file_extension": ".py",
   "mimetype": "text/x-python",
   "name": "python",
   "nbconvert_exporter": "python",
   "pygments_lexer": "ipython3",
   "version": "3.11.13"
  }
 },
 "nbformat": 4,
 "nbformat_minor": 5
}
